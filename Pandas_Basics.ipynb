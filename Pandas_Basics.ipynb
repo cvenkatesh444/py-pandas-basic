{
  "nbformat": 4,
  "nbformat_minor": 0,
  "metadata": {
    "kernelspec": {
      "display_name": "Python 3",
      "language": "python",
      "name": "python3"
    },
    "language_info": {
      "codemirror_mode": {
        "name": "ipython",
        "version": 3
      },
      "file_extension": ".py",
      "mimetype": "text/x-python",
      "name": "python",
      "nbconvert_exporter": "python",
      "pygments_lexer": "ipython3",
      "version": "3.7.6"
    },
    "colab": {
      "name": "Pandas_Basics_1.ipynb",
      "provenance": []
    },
    "accelerator": "GPU"
  },
  "cells": [
    {
      "cell_type": "code",
      "metadata": {
        "id": "iLzTBUrr756s"
      },
      "source": [
        "import numpy as np\n",
        "import pandas as pd"
      ],
      "execution_count": null,
      "outputs": []
    },
    {
      "cell_type": "code",
      "metadata": {
        "id": "OCf1QhBT756v"
      },
      "source": [
        "number_list = [10,20,30,40]\n",
        "labels = ['w','x','y','z']"
      ],
      "execution_count": null,
      "outputs": []
    },
    {
      "cell_type": "code",
      "metadata": {
        "id": "-4yKn3_8756w"
      },
      "source": [
        "number_series = pd.Series(data=number_list)"
      ],
      "execution_count": null,
      "outputs": []
    },
    {
      "cell_type": "code",
      "metadata": {
        "id": "znAuCNoy756w",
        "outputId": "438f3fd3-e9d9-41d0-a6f5-5f7c7fb22d11"
      },
      "source": [
        "type(number_series)"
      ],
      "execution_count": null,
      "outputs": [
        {
          "output_type": "execute_result",
          "data": {
            "text/plain": [
              "pandas.core.series.Series"
            ]
          },
          "metadata": {
            "tags": []
          },
          "execution_count": 5
        }
      ]
    },
    {
      "cell_type": "code",
      "metadata": {
        "id": "ld1m6nWZ756y"
      },
      "source": [
        "nd_array = np.array([10,20,30,40])"
      ],
      "execution_count": null,
      "outputs": []
    },
    {
      "cell_type": "code",
      "metadata": {
        "id": "QaJ0bxp5756z"
      },
      "source": [
        "number_nd_series = pd.Series(data = nd_array)"
      ],
      "execution_count": null,
      "outputs": []
    },
    {
      "cell_type": "code",
      "metadata": {
        "id": "2OtilDIo756z",
        "outputId": "434418f5-a0d5-41d4-a00a-e138bea3d386"
      },
      "source": [
        "number_nd_series"
      ],
      "execution_count": null,
      "outputs": [
        {
          "output_type": "execute_result",
          "data": {
            "text/plain": [
              "0    10\n",
              "1    20\n",
              "2    30\n",
              "3    40\n",
              "dtype: int32"
            ]
          },
          "metadata": {
            "tags": []
          },
          "execution_count": 8
        }
      ]
    },
    {
      "cell_type": "code",
      "metadata": {
        "id": "wNswHoJW7561"
      },
      "source": [
        "my_dict = {'w':10,'x':20,'y':30,'z':40}"
      ],
      "execution_count": null,
      "outputs": []
    },
    {
      "cell_type": "code",
      "metadata": {
        "id": "V9dO0ZEK7562",
        "outputId": "95c22512-ec5f-4cb8-8697-08568714a1b0"
      },
      "source": [
        "type(my_dict)"
      ],
      "execution_count": null,
      "outputs": [
        {
          "output_type": "execute_result",
          "data": {
            "text/plain": [
              "dict"
            ]
          },
          "metadata": {
            "tags": []
          },
          "execution_count": 13
        }
      ]
    },
    {
      "cell_type": "code",
      "metadata": {
        "id": "5uSIL7yr7563",
        "outputId": "a9b6853a-cfee-49e2-f296-46d1a3990317"
      },
      "source": [
        "pd.Series(data = my_dict)"
      ],
      "execution_count": null,
      "outputs": [
        {
          "output_type": "execute_result",
          "data": {
            "text/plain": [
              "w    10\n",
              "x    20\n",
              "y    30\n",
              "z    40\n",
              "dtype: int64"
            ]
          },
          "metadata": {
            "tags": []
          },
          "execution_count": 10
        }
      ]
    },
    {
      "cell_type": "code",
      "metadata": {
        "id": "wfQLZaDV7564"
      },
      "source": [
        "number_series = pd.Series(data=number_list,index=labels)"
      ],
      "execution_count": null,
      "outputs": []
    },
    {
      "cell_type": "code",
      "metadata": {
        "id": "kbfVn4tF7564",
        "outputId": "e30b1593-b961-4998-d782-08707cbad98f"
      },
      "source": [
        "number_series"
      ],
      "execution_count": null,
      "outputs": [
        {
          "output_type": "execute_result",
          "data": {
            "text/plain": [
              "w    10\n",
              "x    20\n",
              "y    30\n",
              "z    40\n",
              "dtype: int64"
            ]
          },
          "metadata": {
            "tags": []
          },
          "execution_count": 12
        }
      ]
    },
    {
      "cell_type": "code",
      "metadata": {
        "id": "VsCmp8pL7565"
      },
      "source": [
        "sports1 = pd.Series([1,2,4,5], index = ['Cricket','Football','Baseball','Golf'])"
      ],
      "execution_count": null,
      "outputs": []
    },
    {
      "cell_type": "code",
      "metadata": {
        "id": "uPnCuvNA7565",
        "outputId": "728623ff-6cf7-4190-cc03-3c100419bf02"
      },
      "source": [
        "sports1"
      ],
      "execution_count": null,
      "outputs": [
        {
          "output_type": "execute_result",
          "data": {
            "text/plain": [
              "Cricket     1\n",
              "Football    2\n",
              "Baseball    4\n",
              "Golf        5\n",
              "dtype: int64"
            ]
          },
          "metadata": {
            "tags": []
          },
          "execution_count": 15
        }
      ]
    },
    {
      "cell_type": "code",
      "metadata": {
        "id": "T6TJQegW7565",
        "outputId": "c7c9fc32-7c8e-4223-a456-0713c304f1bc"
      },
      "source": [
        "sports1['Cricket']"
      ],
      "execution_count": null,
      "outputs": [
        {
          "output_type": "execute_result",
          "data": {
            "text/plain": [
              "1"
            ]
          },
          "metadata": {
            "tags": []
          },
          "execution_count": 16
        }
      ]
    },
    {
      "cell_type": "code",
      "metadata": {
        "id": "3wS_SbUX7566"
      },
      "source": [
        "sports2 = pd.Series([1,2,5,4],index = ['Cricket','Football','Basketball','Golf'])\n"
      ],
      "execution_count": null,
      "outputs": []
    },
    {
      "cell_type": "code",
      "metadata": {
        "id": "vfIMdqpE7566",
        "outputId": "3ad1c579-a8e1-44d1-d686-8ff1acb9e01a"
      },
      "source": [
        "sports2"
      ],
      "execution_count": null,
      "outputs": [
        {
          "output_type": "execute_result",
          "data": {
            "text/plain": [
              "Cricket       1\n",
              "Football      2\n",
              "Basketball    5\n",
              "Golf          4\n",
              "dtype: int64"
            ]
          },
          "metadata": {
            "tags": []
          },
          "execution_count": 18
        }
      ]
    },
    {
      "cell_type": "code",
      "metadata": {
        "id": "4tRCK8Am7567",
        "outputId": "d8f50127-208f-4bfa-fc43-03db22263e59"
      },
      "source": [
        "sports1 + sports2"
      ],
      "execution_count": null,
      "outputs": [
        {
          "output_type": "execute_result",
          "data": {
            "text/plain": [
              "Baseball      NaN\n",
              "Basketball    NaN\n",
              "Cricket       2.0\n",
              "Football      4.0\n",
              "Golf          9.0\n",
              "dtype: float64"
            ]
          },
          "metadata": {
            "tags": []
          },
          "execution_count": 19
        }
      ]
    },
    {
      "cell_type": "code",
      "metadata": {
        "id": "KOxAiDVq7567"
      },
      "source": [
        "dataframe = pd.DataFrame(np.random.randn(10,5),index='A B C D E F G H I J'.split(),columns='Score1 Score2 Score3 Score4 Score5'.split())"
      ],
      "execution_count": null,
      "outputs": []
    },
    {
      "cell_type": "code",
      "metadata": {
        "id": "Z-0Ufpt97567",
        "outputId": "bf54cc7a-4339-4f92-c5db-ff83521e70c3"
      },
      "source": [
        "dataframe"
      ],
      "execution_count": null,
      "outputs": [
        {
          "output_type": "execute_result",
          "data": {
            "text/html": [
              "<div>\n",
              "<style scoped>\n",
              "    .dataframe tbody tr th:only-of-type {\n",
              "        vertical-align: middle;\n",
              "    }\n",
              "\n",
              "    .dataframe tbody tr th {\n",
              "        vertical-align: top;\n",
              "    }\n",
              "\n",
              "    .dataframe thead th {\n",
              "        text-align: right;\n",
              "    }\n",
              "</style>\n",
              "<table border=\"1\" class=\"dataframe\">\n",
              "  <thead>\n",
              "    <tr style=\"text-align: right;\">\n",
              "      <th></th>\n",
              "      <th>Score1</th>\n",
              "      <th>Score2</th>\n",
              "      <th>Score3</th>\n",
              "      <th>Score4</th>\n",
              "      <th>Score5</th>\n",
              "    </tr>\n",
              "  </thead>\n",
              "  <tbody>\n",
              "    <tr>\n",
              "      <th>A</th>\n",
              "      <td>-0.882171</td>\n",
              "      <td>-0.095061</td>\n",
              "      <td>2.625610</td>\n",
              "      <td>-1.426068</td>\n",
              "      <td>0.187746</td>\n",
              "    </tr>\n",
              "    <tr>\n",
              "      <th>B</th>\n",
              "      <td>1.730091</td>\n",
              "      <td>1.008379</td>\n",
              "      <td>-0.558240</td>\n",
              "      <td>0.156570</td>\n",
              "      <td>-0.295494</td>\n",
              "    </tr>\n",
              "    <tr>\n",
              "      <th>C</th>\n",
              "      <td>-1.784861</td>\n",
              "      <td>-2.007825</td>\n",
              "      <td>-1.513561</td>\n",
              "      <td>0.481401</td>\n",
              "      <td>-1.073825</td>\n",
              "    </tr>\n",
              "    <tr>\n",
              "      <th>D</th>\n",
              "      <td>-0.381563</td>\n",
              "      <td>0.257768</td>\n",
              "      <td>0.404481</td>\n",
              "      <td>-1.198314</td>\n",
              "      <td>2.342570</td>\n",
              "    </tr>\n",
              "    <tr>\n",
              "      <th>E</th>\n",
              "      <td>-1.356179</td>\n",
              "      <td>-0.827508</td>\n",
              "      <td>-0.463523</td>\n",
              "      <td>0.257998</td>\n",
              "      <td>1.177842</td>\n",
              "    </tr>\n",
              "    <tr>\n",
              "      <th>F</th>\n",
              "      <td>1.774042</td>\n",
              "      <td>-0.025552</td>\n",
              "      <td>1.582065</td>\n",
              "      <td>-0.543565</td>\n",
              "      <td>-0.123493</td>\n",
              "    </tr>\n",
              "    <tr>\n",
              "      <th>G</th>\n",
              "      <td>0.651485</td>\n",
              "      <td>0.401506</td>\n",
              "      <td>0.193115</td>\n",
              "      <td>0.810205</td>\n",
              "      <td>-1.272691</td>\n",
              "    </tr>\n",
              "    <tr>\n",
              "      <th>H</th>\n",
              "      <td>0.501196</td>\n",
              "      <td>-0.395915</td>\n",
              "      <td>1.243877</td>\n",
              "      <td>-0.959738</td>\n",
              "      <td>0.708761</td>\n",
              "    </tr>\n",
              "    <tr>\n",
              "      <th>I</th>\n",
              "      <td>-0.284304</td>\n",
              "      <td>0.165753</td>\n",
              "      <td>-1.712767</td>\n",
              "      <td>0.212682</td>\n",
              "      <td>-0.118836</td>\n",
              "    </tr>\n",
              "    <tr>\n",
              "      <th>J</th>\n",
              "      <td>0.854647</td>\n",
              "      <td>1.605375</td>\n",
              "      <td>0.562507</td>\n",
              "      <td>1.446787</td>\n",
              "      <td>-1.845467</td>\n",
              "    </tr>\n",
              "  </tbody>\n",
              "</table>\n",
              "</div>"
            ],
            "text/plain": [
              "     Score1    Score2    Score3    Score4    Score5\n",
              "A -0.882171 -0.095061  2.625610 -1.426068  0.187746\n",
              "B  1.730091  1.008379 -0.558240  0.156570 -0.295494\n",
              "C -1.784861 -2.007825 -1.513561  0.481401 -1.073825\n",
              "D -0.381563  0.257768  0.404481 -1.198314  2.342570\n",
              "E -1.356179 -0.827508 -0.463523  0.257998  1.177842\n",
              "F  1.774042 -0.025552  1.582065 -0.543565 -0.123493\n",
              "G  0.651485  0.401506  0.193115  0.810205 -1.272691\n",
              "H  0.501196 -0.395915  1.243877 -0.959738  0.708761\n",
              "I -0.284304  0.165753 -1.712767  0.212682 -0.118836\n",
              "J  0.854647  1.605375  0.562507  1.446787 -1.845467"
            ]
          },
          "metadata": {
            "tags": []
          },
          "execution_count": 43
        }
      ]
    },
    {
      "cell_type": "code",
      "metadata": {
        "id": "AgnYCA_77568"
      },
      "source": [
        "var = dataframe['Score3']"
      ],
      "execution_count": null,
      "outputs": []
    },
    {
      "cell_type": "code",
      "metadata": {
        "id": "fcahtUuz7568",
        "outputId": "4c364cd1-8672-47ad-cc9a-93690196afe5"
      },
      "source": [
        "type(var)"
      ],
      "execution_count": null,
      "outputs": [
        {
          "output_type": "execute_result",
          "data": {
            "text/plain": [
              "pandas.core.series.Series"
            ]
          },
          "metadata": {
            "tags": []
          },
          "execution_count": 45
        }
      ]
    },
    {
      "cell_type": "code",
      "metadata": {
        "id": "vZ8EJhht7569",
        "outputId": "fb1250a3-ff29-4c8e-facc-d4931b277043"
      },
      "source": [
        "dataframe[['Score1','Score2']]"
      ],
      "execution_count": null,
      "outputs": [
        {
          "output_type": "execute_result",
          "data": {
            "text/html": [
              "<div>\n",
              "<style scoped>\n",
              "    .dataframe tbody tr th:only-of-type {\n",
              "        vertical-align: middle;\n",
              "    }\n",
              "\n",
              "    .dataframe tbody tr th {\n",
              "        vertical-align: top;\n",
              "    }\n",
              "\n",
              "    .dataframe thead th {\n",
              "        text-align: right;\n",
              "    }\n",
              "</style>\n",
              "<table border=\"1\" class=\"dataframe\">\n",
              "  <thead>\n",
              "    <tr style=\"text-align: right;\">\n",
              "      <th></th>\n",
              "      <th>Score1</th>\n",
              "      <th>Score2</th>\n",
              "    </tr>\n",
              "  </thead>\n",
              "  <tbody>\n",
              "    <tr>\n",
              "      <th>A</th>\n",
              "      <td>-0.882171</td>\n",
              "      <td>-0.095061</td>\n",
              "    </tr>\n",
              "    <tr>\n",
              "      <th>B</th>\n",
              "      <td>1.730091</td>\n",
              "      <td>1.008379</td>\n",
              "    </tr>\n",
              "    <tr>\n",
              "      <th>C</th>\n",
              "      <td>-1.784861</td>\n",
              "      <td>-2.007825</td>\n",
              "    </tr>\n",
              "    <tr>\n",
              "      <th>D</th>\n",
              "      <td>-0.381563</td>\n",
              "      <td>0.257768</td>\n",
              "    </tr>\n",
              "    <tr>\n",
              "      <th>E</th>\n",
              "      <td>-1.356179</td>\n",
              "      <td>-0.827508</td>\n",
              "    </tr>\n",
              "    <tr>\n",
              "      <th>F</th>\n",
              "      <td>1.774042</td>\n",
              "      <td>-0.025552</td>\n",
              "    </tr>\n",
              "    <tr>\n",
              "      <th>G</th>\n",
              "      <td>0.651485</td>\n",
              "      <td>0.401506</td>\n",
              "    </tr>\n",
              "    <tr>\n",
              "      <th>H</th>\n",
              "      <td>0.501196</td>\n",
              "      <td>-0.395915</td>\n",
              "    </tr>\n",
              "    <tr>\n",
              "      <th>I</th>\n",
              "      <td>-0.284304</td>\n",
              "      <td>0.165753</td>\n",
              "    </tr>\n",
              "    <tr>\n",
              "      <th>J</th>\n",
              "      <td>0.854647</td>\n",
              "      <td>1.605375</td>\n",
              "    </tr>\n",
              "  </tbody>\n",
              "</table>\n",
              "</div>"
            ],
            "text/plain": [
              "     Score1    Score2\n",
              "A -0.882171 -0.095061\n",
              "B  1.730091  1.008379\n",
              "C -1.784861 -2.007825\n",
              "D -0.381563  0.257768\n",
              "E -1.356179 -0.827508\n",
              "F  1.774042 -0.025552\n",
              "G  0.651485  0.401506\n",
              "H  0.501196 -0.395915\n",
              "I -0.284304  0.165753\n",
              "J  0.854647  1.605375"
            ]
          },
          "metadata": {
            "tags": []
          },
          "execution_count": 46
        }
      ]
    },
    {
      "cell_type": "code",
      "metadata": {
        "id": "TsY_9BLB7569",
        "outputId": "a5ed48e8-9d4f-45a7-a29d-3f3e3ae079b7"
      },
      "source": [
        "dataframe[['Score2','Score1']]"
      ],
      "execution_count": null,
      "outputs": [
        {
          "output_type": "execute_result",
          "data": {
            "text/html": [
              "<div>\n",
              "<style scoped>\n",
              "    .dataframe tbody tr th:only-of-type {\n",
              "        vertical-align: middle;\n",
              "    }\n",
              "\n",
              "    .dataframe tbody tr th {\n",
              "        vertical-align: top;\n",
              "    }\n",
              "\n",
              "    .dataframe thead th {\n",
              "        text-align: right;\n",
              "    }\n",
              "</style>\n",
              "<table border=\"1\" class=\"dataframe\">\n",
              "  <thead>\n",
              "    <tr style=\"text-align: right;\">\n",
              "      <th></th>\n",
              "      <th>Score2</th>\n",
              "      <th>Score1</th>\n",
              "    </tr>\n",
              "  </thead>\n",
              "  <tbody>\n",
              "    <tr>\n",
              "      <th>A</th>\n",
              "      <td>-0.095061</td>\n",
              "      <td>-0.882171</td>\n",
              "    </tr>\n",
              "    <tr>\n",
              "      <th>B</th>\n",
              "      <td>1.008379</td>\n",
              "      <td>1.730091</td>\n",
              "    </tr>\n",
              "    <tr>\n",
              "      <th>C</th>\n",
              "      <td>-2.007825</td>\n",
              "      <td>-1.784861</td>\n",
              "    </tr>\n",
              "    <tr>\n",
              "      <th>D</th>\n",
              "      <td>0.257768</td>\n",
              "      <td>-0.381563</td>\n",
              "    </tr>\n",
              "    <tr>\n",
              "      <th>E</th>\n",
              "      <td>-0.827508</td>\n",
              "      <td>-1.356179</td>\n",
              "    </tr>\n",
              "    <tr>\n",
              "      <th>F</th>\n",
              "      <td>-0.025552</td>\n",
              "      <td>1.774042</td>\n",
              "    </tr>\n",
              "    <tr>\n",
              "      <th>G</th>\n",
              "      <td>0.401506</td>\n",
              "      <td>0.651485</td>\n",
              "    </tr>\n",
              "    <tr>\n",
              "      <th>H</th>\n",
              "      <td>-0.395915</td>\n",
              "      <td>0.501196</td>\n",
              "    </tr>\n",
              "    <tr>\n",
              "      <th>I</th>\n",
              "      <td>0.165753</td>\n",
              "      <td>-0.284304</td>\n",
              "    </tr>\n",
              "    <tr>\n",
              "      <th>J</th>\n",
              "      <td>1.605375</td>\n",
              "      <td>0.854647</td>\n",
              "    </tr>\n",
              "  </tbody>\n",
              "</table>\n",
              "</div>"
            ],
            "text/plain": [
              "     Score2    Score1\n",
              "A -0.095061 -0.882171\n",
              "B  1.008379  1.730091\n",
              "C -2.007825 -1.784861\n",
              "D  0.257768 -0.381563\n",
              "E -0.827508 -1.356179\n",
              "F -0.025552  1.774042\n",
              "G  0.401506  0.651485\n",
              "H -0.395915  0.501196\n",
              "I  0.165753 -0.284304\n",
              "J  1.605375  0.854647"
            ]
          },
          "metadata": {
            "tags": []
          },
          "execution_count": 47
        }
      ]
    },
    {
      "cell_type": "code",
      "metadata": {
        "id": "W3GPjc0W7569",
        "outputId": "a3d45aab-9371-4a2b-8453-7acfaf3d1938"
      },
      "source": [
        "dataframe['Score1']"
      ],
      "execution_count": null,
      "outputs": [
        {
          "output_type": "execute_result",
          "data": {
            "text/plain": [
              "A   -0.882171\n",
              "B    1.730091\n",
              "C   -1.784861\n",
              "D   -0.381563\n",
              "E   -1.356179\n",
              "F    1.774042\n",
              "G    0.651485\n",
              "H    0.501196\n",
              "I   -0.284304\n",
              "J    0.854647\n",
              "Name: Score1, dtype: float64"
            ]
          },
          "metadata": {
            "tags": []
          },
          "execution_count": 48
        }
      ]
    },
    {
      "cell_type": "code",
      "metadata": {
        "id": "hPvgWg7X756-"
      },
      "source": [
        "my_var = dataframe.Score1.values"
      ],
      "execution_count": null,
      "outputs": []
    },
    {
      "cell_type": "code",
      "metadata": {
        "id": "MA82TS8i756-",
        "outputId": "ce8f99a6-38f1-429d-b9f3-0a18753f8c41"
      },
      "source": [
        "type(my_var)"
      ],
      "execution_count": null,
      "outputs": [
        {
          "output_type": "execute_result",
          "data": {
            "text/plain": [
              "numpy.ndarray"
            ]
          },
          "metadata": {
            "tags": []
          },
          "execution_count": 50
        }
      ]
    },
    {
      "cell_type": "code",
      "metadata": {
        "id": "PtXjoDl-756-"
      },
      "source": [
        "dataframe['Score6'] = dataframe['Score1'] + dataframe['Score2']"
      ],
      "execution_count": null,
      "outputs": []
    },
    {
      "cell_type": "code",
      "metadata": {
        "id": "uAMi73pa756-",
        "outputId": "9a92a28f-fdfe-42bf-99ee-6ba81b810e56"
      },
      "source": [
        "dataframe"
      ],
      "execution_count": null,
      "outputs": [
        {
          "output_type": "execute_result",
          "data": {
            "text/html": [
              "<div>\n",
              "<style scoped>\n",
              "    .dataframe tbody tr th:only-of-type {\n",
              "        vertical-align: middle;\n",
              "    }\n",
              "\n",
              "    .dataframe tbody tr th {\n",
              "        vertical-align: top;\n",
              "    }\n",
              "\n",
              "    .dataframe thead th {\n",
              "        text-align: right;\n",
              "    }\n",
              "</style>\n",
              "<table border=\"1\" class=\"dataframe\">\n",
              "  <thead>\n",
              "    <tr style=\"text-align: right;\">\n",
              "      <th></th>\n",
              "      <th>Score1</th>\n",
              "      <th>Score2</th>\n",
              "      <th>Score3</th>\n",
              "      <th>Score4</th>\n",
              "      <th>Score5</th>\n",
              "      <th>Score6</th>\n",
              "    </tr>\n",
              "  </thead>\n",
              "  <tbody>\n",
              "    <tr>\n",
              "      <th>A</th>\n",
              "      <td>-0.882171</td>\n",
              "      <td>-0.095061</td>\n",
              "      <td>2.625610</td>\n",
              "      <td>-1.426068</td>\n",
              "      <td>0.187746</td>\n",
              "      <td>-0.977232</td>\n",
              "    </tr>\n",
              "    <tr>\n",
              "      <th>B</th>\n",
              "      <td>1.730091</td>\n",
              "      <td>1.008379</td>\n",
              "      <td>-0.558240</td>\n",
              "      <td>0.156570</td>\n",
              "      <td>-0.295494</td>\n",
              "      <td>2.738470</td>\n",
              "    </tr>\n",
              "    <tr>\n",
              "      <th>C</th>\n",
              "      <td>-1.784861</td>\n",
              "      <td>-2.007825</td>\n",
              "      <td>-1.513561</td>\n",
              "      <td>0.481401</td>\n",
              "      <td>-1.073825</td>\n",
              "      <td>-3.792686</td>\n",
              "    </tr>\n",
              "    <tr>\n",
              "      <th>D</th>\n",
              "      <td>-0.381563</td>\n",
              "      <td>0.257768</td>\n",
              "      <td>0.404481</td>\n",
              "      <td>-1.198314</td>\n",
              "      <td>2.342570</td>\n",
              "      <td>-0.123795</td>\n",
              "    </tr>\n",
              "    <tr>\n",
              "      <th>E</th>\n",
              "      <td>-1.356179</td>\n",
              "      <td>-0.827508</td>\n",
              "      <td>-0.463523</td>\n",
              "      <td>0.257998</td>\n",
              "      <td>1.177842</td>\n",
              "      <td>-2.183687</td>\n",
              "    </tr>\n",
              "    <tr>\n",
              "      <th>F</th>\n",
              "      <td>1.774042</td>\n",
              "      <td>-0.025552</td>\n",
              "      <td>1.582065</td>\n",
              "      <td>-0.543565</td>\n",
              "      <td>-0.123493</td>\n",
              "      <td>1.748490</td>\n",
              "    </tr>\n",
              "    <tr>\n",
              "      <th>G</th>\n",
              "      <td>0.651485</td>\n",
              "      <td>0.401506</td>\n",
              "      <td>0.193115</td>\n",
              "      <td>0.810205</td>\n",
              "      <td>-1.272691</td>\n",
              "      <td>1.052992</td>\n",
              "    </tr>\n",
              "    <tr>\n",
              "      <th>H</th>\n",
              "      <td>0.501196</td>\n",
              "      <td>-0.395915</td>\n",
              "      <td>1.243877</td>\n",
              "      <td>-0.959738</td>\n",
              "      <td>0.708761</td>\n",
              "      <td>0.105281</td>\n",
              "    </tr>\n",
              "    <tr>\n",
              "      <th>I</th>\n",
              "      <td>-0.284304</td>\n",
              "      <td>0.165753</td>\n",
              "      <td>-1.712767</td>\n",
              "      <td>0.212682</td>\n",
              "      <td>-0.118836</td>\n",
              "      <td>-0.118551</td>\n",
              "    </tr>\n",
              "    <tr>\n",
              "      <th>J</th>\n",
              "      <td>0.854647</td>\n",
              "      <td>1.605375</td>\n",
              "      <td>0.562507</td>\n",
              "      <td>1.446787</td>\n",
              "      <td>-1.845467</td>\n",
              "      <td>2.460022</td>\n",
              "    </tr>\n",
              "  </tbody>\n",
              "</table>\n",
              "</div>"
            ],
            "text/plain": [
              "     Score1    Score2    Score3    Score4    Score5    Score6\n",
              "A -0.882171 -0.095061  2.625610 -1.426068  0.187746 -0.977232\n",
              "B  1.730091  1.008379 -0.558240  0.156570 -0.295494  2.738470\n",
              "C -1.784861 -2.007825 -1.513561  0.481401 -1.073825 -3.792686\n",
              "D -0.381563  0.257768  0.404481 -1.198314  2.342570 -0.123795\n",
              "E -1.356179 -0.827508 -0.463523  0.257998  1.177842 -2.183687\n",
              "F  1.774042 -0.025552  1.582065 -0.543565 -0.123493  1.748490\n",
              "G  0.651485  0.401506  0.193115  0.810205 -1.272691  1.052992\n",
              "H  0.501196 -0.395915  1.243877 -0.959738  0.708761  0.105281\n",
              "I -0.284304  0.165753 -1.712767  0.212682 -0.118836 -0.118551\n",
              "J  0.854647  1.605375  0.562507  1.446787 -1.845467  2.460022"
            ]
          },
          "metadata": {
            "tags": []
          },
          "execution_count": 52
        }
      ]
    },
    {
      "cell_type": "code",
      "metadata": {
        "id": "gbwCgTbH756_"
      },
      "source": [
        "new_df = dataframe.copy()"
      ],
      "execution_count": null,
      "outputs": []
    },
    {
      "cell_type": "code",
      "metadata": {
        "id": "2KV432Yj756_",
        "outputId": "911932f5-0307-4695-bb51-227e6845c9f3"
      },
      "source": [
        "new_df"
      ],
      "execution_count": null,
      "outputs": [
        {
          "output_type": "execute_result",
          "data": {
            "text/html": [
              "<div>\n",
              "<style scoped>\n",
              "    .dataframe tbody tr th:only-of-type {\n",
              "        vertical-align: middle;\n",
              "    }\n",
              "\n",
              "    .dataframe tbody tr th {\n",
              "        vertical-align: top;\n",
              "    }\n",
              "\n",
              "    .dataframe thead th {\n",
              "        text-align: right;\n",
              "    }\n",
              "</style>\n",
              "<table border=\"1\" class=\"dataframe\">\n",
              "  <thead>\n",
              "    <tr style=\"text-align: right;\">\n",
              "      <th></th>\n",
              "      <th>Score1</th>\n",
              "      <th>Score2</th>\n",
              "      <th>Score3</th>\n",
              "      <th>Score4</th>\n",
              "      <th>Score5</th>\n",
              "      <th>Score6</th>\n",
              "    </tr>\n",
              "  </thead>\n",
              "  <tbody>\n",
              "    <tr>\n",
              "      <th>A</th>\n",
              "      <td>-0.882171</td>\n",
              "      <td>-0.095061</td>\n",
              "      <td>2.625610</td>\n",
              "      <td>-1.426068</td>\n",
              "      <td>0.187746</td>\n",
              "      <td>-0.977232</td>\n",
              "    </tr>\n",
              "    <tr>\n",
              "      <th>B</th>\n",
              "      <td>1.730091</td>\n",
              "      <td>1.008379</td>\n",
              "      <td>-0.558240</td>\n",
              "      <td>0.156570</td>\n",
              "      <td>-0.295494</td>\n",
              "      <td>2.738470</td>\n",
              "    </tr>\n",
              "    <tr>\n",
              "      <th>C</th>\n",
              "      <td>-1.784861</td>\n",
              "      <td>-2.007825</td>\n",
              "      <td>-1.513561</td>\n",
              "      <td>0.481401</td>\n",
              "      <td>-1.073825</td>\n",
              "      <td>-3.792686</td>\n",
              "    </tr>\n",
              "    <tr>\n",
              "      <th>D</th>\n",
              "      <td>-0.381563</td>\n",
              "      <td>0.257768</td>\n",
              "      <td>0.404481</td>\n",
              "      <td>-1.198314</td>\n",
              "      <td>2.342570</td>\n",
              "      <td>-0.123795</td>\n",
              "    </tr>\n",
              "    <tr>\n",
              "      <th>E</th>\n",
              "      <td>-1.356179</td>\n",
              "      <td>-0.827508</td>\n",
              "      <td>-0.463523</td>\n",
              "      <td>0.257998</td>\n",
              "      <td>1.177842</td>\n",
              "      <td>-2.183687</td>\n",
              "    </tr>\n",
              "    <tr>\n",
              "      <th>F</th>\n",
              "      <td>1.774042</td>\n",
              "      <td>-0.025552</td>\n",
              "      <td>1.582065</td>\n",
              "      <td>-0.543565</td>\n",
              "      <td>-0.123493</td>\n",
              "      <td>1.748490</td>\n",
              "    </tr>\n",
              "    <tr>\n",
              "      <th>G</th>\n",
              "      <td>0.651485</td>\n",
              "      <td>0.401506</td>\n",
              "      <td>0.193115</td>\n",
              "      <td>0.810205</td>\n",
              "      <td>-1.272691</td>\n",
              "      <td>1.052992</td>\n",
              "    </tr>\n",
              "    <tr>\n",
              "      <th>H</th>\n",
              "      <td>0.501196</td>\n",
              "      <td>-0.395915</td>\n",
              "      <td>1.243877</td>\n",
              "      <td>-0.959738</td>\n",
              "      <td>0.708761</td>\n",
              "      <td>0.105281</td>\n",
              "    </tr>\n",
              "    <tr>\n",
              "      <th>I</th>\n",
              "      <td>-0.284304</td>\n",
              "      <td>0.165753</td>\n",
              "      <td>-1.712767</td>\n",
              "      <td>0.212682</td>\n",
              "      <td>-0.118836</td>\n",
              "      <td>-0.118551</td>\n",
              "    </tr>\n",
              "    <tr>\n",
              "      <th>J</th>\n",
              "      <td>0.854647</td>\n",
              "      <td>1.605375</td>\n",
              "      <td>0.562507</td>\n",
              "      <td>1.446787</td>\n",
              "      <td>-1.845467</td>\n",
              "      <td>2.460022</td>\n",
              "    </tr>\n",
              "  </tbody>\n",
              "</table>\n",
              "</div>"
            ],
            "text/plain": [
              "     Score1    Score2    Score3    Score4    Score5    Score6\n",
              "A -0.882171 -0.095061  2.625610 -1.426068  0.187746 -0.977232\n",
              "B  1.730091  1.008379 -0.558240  0.156570 -0.295494  2.738470\n",
              "C -1.784861 -2.007825 -1.513561  0.481401 -1.073825 -3.792686\n",
              "D -0.381563  0.257768  0.404481 -1.198314  2.342570 -0.123795\n",
              "E -1.356179 -0.827508 -0.463523  0.257998  1.177842 -2.183687\n",
              "F  1.774042 -0.025552  1.582065 -0.543565 -0.123493  1.748490\n",
              "G  0.651485  0.401506  0.193115  0.810205 -1.272691  1.052992\n",
              "H  0.501196 -0.395915  1.243877 -0.959738  0.708761  0.105281\n",
              "I -0.284304  0.165753 -1.712767  0.212682 -0.118836 -0.118551\n",
              "J  0.854647  1.605375  0.562507  1.446787 -1.845467  2.460022"
            ]
          },
          "metadata": {
            "tags": []
          },
          "execution_count": 54
        }
      ]
    },
    {
      "cell_type": "code",
      "metadata": {
        "id": "-r_9y3Aa756_"
      },
      "source": [
        "new_df.drop('Score6',axis=1,inplace=True)"
      ],
      "execution_count": null,
      "outputs": []
    },
    {
      "cell_type": "code",
      "metadata": {
        "id": "4hGNMnm8757A",
        "outputId": "bbb91616-54d9-4b18-910a-733bb5d2a216"
      },
      "source": [
        "new_df"
      ],
      "execution_count": null,
      "outputs": [
        {
          "output_type": "execute_result",
          "data": {
            "text/html": [
              "<div>\n",
              "<style scoped>\n",
              "    .dataframe tbody tr th:only-of-type {\n",
              "        vertical-align: middle;\n",
              "    }\n",
              "\n",
              "    .dataframe tbody tr th {\n",
              "        vertical-align: top;\n",
              "    }\n",
              "\n",
              "    .dataframe thead th {\n",
              "        text-align: right;\n",
              "    }\n",
              "</style>\n",
              "<table border=\"1\" class=\"dataframe\">\n",
              "  <thead>\n",
              "    <tr style=\"text-align: right;\">\n",
              "      <th></th>\n",
              "      <th>Score1</th>\n",
              "      <th>Score2</th>\n",
              "      <th>Score3</th>\n",
              "      <th>Score4</th>\n",
              "      <th>Score5</th>\n",
              "    </tr>\n",
              "  </thead>\n",
              "  <tbody>\n",
              "    <tr>\n",
              "      <th>A</th>\n",
              "      <td>-0.882171</td>\n",
              "      <td>-0.095061</td>\n",
              "      <td>2.625610</td>\n",
              "      <td>-1.426068</td>\n",
              "      <td>0.187746</td>\n",
              "    </tr>\n",
              "    <tr>\n",
              "      <th>B</th>\n",
              "      <td>1.730091</td>\n",
              "      <td>1.008379</td>\n",
              "      <td>-0.558240</td>\n",
              "      <td>0.156570</td>\n",
              "      <td>-0.295494</td>\n",
              "    </tr>\n",
              "    <tr>\n",
              "      <th>C</th>\n",
              "      <td>-1.784861</td>\n",
              "      <td>-2.007825</td>\n",
              "      <td>-1.513561</td>\n",
              "      <td>0.481401</td>\n",
              "      <td>-1.073825</td>\n",
              "    </tr>\n",
              "    <tr>\n",
              "      <th>D</th>\n",
              "      <td>-0.381563</td>\n",
              "      <td>0.257768</td>\n",
              "      <td>0.404481</td>\n",
              "      <td>-1.198314</td>\n",
              "      <td>2.342570</td>\n",
              "    </tr>\n",
              "    <tr>\n",
              "      <th>E</th>\n",
              "      <td>-1.356179</td>\n",
              "      <td>-0.827508</td>\n",
              "      <td>-0.463523</td>\n",
              "      <td>0.257998</td>\n",
              "      <td>1.177842</td>\n",
              "    </tr>\n",
              "    <tr>\n",
              "      <th>F</th>\n",
              "      <td>1.774042</td>\n",
              "      <td>-0.025552</td>\n",
              "      <td>1.582065</td>\n",
              "      <td>-0.543565</td>\n",
              "      <td>-0.123493</td>\n",
              "    </tr>\n",
              "    <tr>\n",
              "      <th>G</th>\n",
              "      <td>0.651485</td>\n",
              "      <td>0.401506</td>\n",
              "      <td>0.193115</td>\n",
              "      <td>0.810205</td>\n",
              "      <td>-1.272691</td>\n",
              "    </tr>\n",
              "    <tr>\n",
              "      <th>H</th>\n",
              "      <td>0.501196</td>\n",
              "      <td>-0.395915</td>\n",
              "      <td>1.243877</td>\n",
              "      <td>-0.959738</td>\n",
              "      <td>0.708761</td>\n",
              "    </tr>\n",
              "    <tr>\n",
              "      <th>I</th>\n",
              "      <td>-0.284304</td>\n",
              "      <td>0.165753</td>\n",
              "      <td>-1.712767</td>\n",
              "      <td>0.212682</td>\n",
              "      <td>-0.118836</td>\n",
              "    </tr>\n",
              "    <tr>\n",
              "      <th>J</th>\n",
              "      <td>0.854647</td>\n",
              "      <td>1.605375</td>\n",
              "      <td>0.562507</td>\n",
              "      <td>1.446787</td>\n",
              "      <td>-1.845467</td>\n",
              "    </tr>\n",
              "  </tbody>\n",
              "</table>\n",
              "</div>"
            ],
            "text/plain": [
              "     Score1    Score2    Score3    Score4    Score5\n",
              "A -0.882171 -0.095061  2.625610 -1.426068  0.187746\n",
              "B  1.730091  1.008379 -0.558240  0.156570 -0.295494\n",
              "C -1.784861 -2.007825 -1.513561  0.481401 -1.073825\n",
              "D -0.381563  0.257768  0.404481 -1.198314  2.342570\n",
              "E -1.356179 -0.827508 -0.463523  0.257998  1.177842\n",
              "F  1.774042 -0.025552  1.582065 -0.543565 -0.123493\n",
              "G  0.651485  0.401506  0.193115  0.810205 -1.272691\n",
              "H  0.501196 -0.395915  1.243877 -0.959738  0.708761\n",
              "I -0.284304  0.165753 -1.712767  0.212682 -0.118836\n",
              "J  0.854647  1.605375  0.562507  1.446787 -1.845467"
            ]
          },
          "metadata": {
            "tags": []
          },
          "execution_count": 56
        }
      ]
    },
    {
      "cell_type": "code",
      "metadata": {
        "id": "XsjavBbA757A",
        "outputId": "27a82135-8e16-407a-e11d-c051a6bf35d8"
      },
      "source": [
        "dataframe"
      ],
      "execution_count": null,
      "outputs": [
        {
          "output_type": "execute_result",
          "data": {
            "text/html": [
              "<div>\n",
              "<style scoped>\n",
              "    .dataframe tbody tr th:only-of-type {\n",
              "        vertical-align: middle;\n",
              "    }\n",
              "\n",
              "    .dataframe tbody tr th {\n",
              "        vertical-align: top;\n",
              "    }\n",
              "\n",
              "    .dataframe thead th {\n",
              "        text-align: right;\n",
              "    }\n",
              "</style>\n",
              "<table border=\"1\" class=\"dataframe\">\n",
              "  <thead>\n",
              "    <tr style=\"text-align: right;\">\n",
              "      <th></th>\n",
              "      <th>Score1</th>\n",
              "      <th>Score2</th>\n",
              "      <th>Score3</th>\n",
              "      <th>Score4</th>\n",
              "      <th>Score5</th>\n",
              "      <th>Score6</th>\n",
              "    </tr>\n",
              "  </thead>\n",
              "  <tbody>\n",
              "    <tr>\n",
              "      <th>A</th>\n",
              "      <td>-0.882171</td>\n",
              "      <td>-0.095061</td>\n",
              "      <td>2.625610</td>\n",
              "      <td>-1.426068</td>\n",
              "      <td>0.187746</td>\n",
              "      <td>-0.977232</td>\n",
              "    </tr>\n",
              "    <tr>\n",
              "      <th>B</th>\n",
              "      <td>1.730091</td>\n",
              "      <td>1.008379</td>\n",
              "      <td>-0.558240</td>\n",
              "      <td>0.156570</td>\n",
              "      <td>-0.295494</td>\n",
              "      <td>2.738470</td>\n",
              "    </tr>\n",
              "    <tr>\n",
              "      <th>C</th>\n",
              "      <td>-1.784861</td>\n",
              "      <td>-2.007825</td>\n",
              "      <td>-1.513561</td>\n",
              "      <td>0.481401</td>\n",
              "      <td>-1.073825</td>\n",
              "      <td>-3.792686</td>\n",
              "    </tr>\n",
              "    <tr>\n",
              "      <th>D</th>\n",
              "      <td>-0.381563</td>\n",
              "      <td>0.257768</td>\n",
              "      <td>0.404481</td>\n",
              "      <td>-1.198314</td>\n",
              "      <td>2.342570</td>\n",
              "      <td>-0.123795</td>\n",
              "    </tr>\n",
              "    <tr>\n",
              "      <th>E</th>\n",
              "      <td>-1.356179</td>\n",
              "      <td>-0.827508</td>\n",
              "      <td>-0.463523</td>\n",
              "      <td>0.257998</td>\n",
              "      <td>1.177842</td>\n",
              "      <td>-2.183687</td>\n",
              "    </tr>\n",
              "    <tr>\n",
              "      <th>F</th>\n",
              "      <td>1.774042</td>\n",
              "      <td>-0.025552</td>\n",
              "      <td>1.582065</td>\n",
              "      <td>-0.543565</td>\n",
              "      <td>-0.123493</td>\n",
              "      <td>1.748490</td>\n",
              "    </tr>\n",
              "    <tr>\n",
              "      <th>G</th>\n",
              "      <td>0.651485</td>\n",
              "      <td>0.401506</td>\n",
              "      <td>0.193115</td>\n",
              "      <td>0.810205</td>\n",
              "      <td>-1.272691</td>\n",
              "      <td>1.052992</td>\n",
              "    </tr>\n",
              "    <tr>\n",
              "      <th>H</th>\n",
              "      <td>0.501196</td>\n",
              "      <td>-0.395915</td>\n",
              "      <td>1.243877</td>\n",
              "      <td>-0.959738</td>\n",
              "      <td>0.708761</td>\n",
              "      <td>0.105281</td>\n",
              "    </tr>\n",
              "    <tr>\n",
              "      <th>I</th>\n",
              "      <td>-0.284304</td>\n",
              "      <td>0.165753</td>\n",
              "      <td>-1.712767</td>\n",
              "      <td>0.212682</td>\n",
              "      <td>-0.118836</td>\n",
              "      <td>-0.118551</td>\n",
              "    </tr>\n",
              "    <tr>\n",
              "      <th>J</th>\n",
              "      <td>0.854647</td>\n",
              "      <td>1.605375</td>\n",
              "      <td>0.562507</td>\n",
              "      <td>1.446787</td>\n",
              "      <td>-1.845467</td>\n",
              "      <td>2.460022</td>\n",
              "    </tr>\n",
              "  </tbody>\n",
              "</table>\n",
              "</div>"
            ],
            "text/plain": [
              "     Score1    Score2    Score3    Score4    Score5    Score6\n",
              "A -0.882171 -0.095061  2.625610 -1.426068  0.187746 -0.977232\n",
              "B  1.730091  1.008379 -0.558240  0.156570 -0.295494  2.738470\n",
              "C -1.784861 -2.007825 -1.513561  0.481401 -1.073825 -3.792686\n",
              "D -0.381563  0.257768  0.404481 -1.198314  2.342570 -0.123795\n",
              "E -1.356179 -0.827508 -0.463523  0.257998  1.177842 -2.183687\n",
              "F  1.774042 -0.025552  1.582065 -0.543565 -0.123493  1.748490\n",
              "G  0.651485  0.401506  0.193115  0.810205 -1.272691  1.052992\n",
              "H  0.501196 -0.395915  1.243877 -0.959738  0.708761  0.105281\n",
              "I -0.284304  0.165753 -1.712767  0.212682 -0.118836 -0.118551\n",
              "J  0.854647  1.605375  0.562507  1.446787 -1.845467  2.460022"
            ]
          },
          "metadata": {
            "tags": []
          },
          "execution_count": 57
        }
      ]
    },
    {
      "cell_type": "code",
      "metadata": {
        "id": "UoCwJffQ757A"
      },
      "source": [
        "new_df.drop('A',axis=0,inplace=True)"
      ],
      "execution_count": null,
      "outputs": []
    },
    {
      "cell_type": "code",
      "metadata": {
        "id": "nFDT17xP757A",
        "outputId": "b78009fe-4838-494a-e3d5-f4c50f40da54"
      },
      "source": [
        "new_df"
      ],
      "execution_count": null,
      "outputs": [
        {
          "output_type": "execute_result",
          "data": {
            "text/html": [
              "<div>\n",
              "<style scoped>\n",
              "    .dataframe tbody tr th:only-of-type {\n",
              "        vertical-align: middle;\n",
              "    }\n",
              "\n",
              "    .dataframe tbody tr th {\n",
              "        vertical-align: top;\n",
              "    }\n",
              "\n",
              "    .dataframe thead th {\n",
              "        text-align: right;\n",
              "    }\n",
              "</style>\n",
              "<table border=\"1\" class=\"dataframe\">\n",
              "  <thead>\n",
              "    <tr style=\"text-align: right;\">\n",
              "      <th></th>\n",
              "      <th>Score1</th>\n",
              "      <th>Score2</th>\n",
              "      <th>Score3</th>\n",
              "      <th>Score4</th>\n",
              "      <th>Score5</th>\n",
              "    </tr>\n",
              "  </thead>\n",
              "  <tbody>\n",
              "    <tr>\n",
              "      <th>B</th>\n",
              "      <td>1.730091</td>\n",
              "      <td>1.008379</td>\n",
              "      <td>-0.558240</td>\n",
              "      <td>0.156570</td>\n",
              "      <td>-0.295494</td>\n",
              "    </tr>\n",
              "    <tr>\n",
              "      <th>C</th>\n",
              "      <td>-1.784861</td>\n",
              "      <td>-2.007825</td>\n",
              "      <td>-1.513561</td>\n",
              "      <td>0.481401</td>\n",
              "      <td>-1.073825</td>\n",
              "    </tr>\n",
              "    <tr>\n",
              "      <th>D</th>\n",
              "      <td>-0.381563</td>\n",
              "      <td>0.257768</td>\n",
              "      <td>0.404481</td>\n",
              "      <td>-1.198314</td>\n",
              "      <td>2.342570</td>\n",
              "    </tr>\n",
              "    <tr>\n",
              "      <th>E</th>\n",
              "      <td>-1.356179</td>\n",
              "      <td>-0.827508</td>\n",
              "      <td>-0.463523</td>\n",
              "      <td>0.257998</td>\n",
              "      <td>1.177842</td>\n",
              "    </tr>\n",
              "    <tr>\n",
              "      <th>F</th>\n",
              "      <td>1.774042</td>\n",
              "      <td>-0.025552</td>\n",
              "      <td>1.582065</td>\n",
              "      <td>-0.543565</td>\n",
              "      <td>-0.123493</td>\n",
              "    </tr>\n",
              "    <tr>\n",
              "      <th>G</th>\n",
              "      <td>0.651485</td>\n",
              "      <td>0.401506</td>\n",
              "      <td>0.193115</td>\n",
              "      <td>0.810205</td>\n",
              "      <td>-1.272691</td>\n",
              "    </tr>\n",
              "    <tr>\n",
              "      <th>H</th>\n",
              "      <td>0.501196</td>\n",
              "      <td>-0.395915</td>\n",
              "      <td>1.243877</td>\n",
              "      <td>-0.959738</td>\n",
              "      <td>0.708761</td>\n",
              "    </tr>\n",
              "    <tr>\n",
              "      <th>I</th>\n",
              "      <td>-0.284304</td>\n",
              "      <td>0.165753</td>\n",
              "      <td>-1.712767</td>\n",
              "      <td>0.212682</td>\n",
              "      <td>-0.118836</td>\n",
              "    </tr>\n",
              "    <tr>\n",
              "      <th>J</th>\n",
              "      <td>0.854647</td>\n",
              "      <td>1.605375</td>\n",
              "      <td>0.562507</td>\n",
              "      <td>1.446787</td>\n",
              "      <td>-1.845467</td>\n",
              "    </tr>\n",
              "  </tbody>\n",
              "</table>\n",
              "</div>"
            ],
            "text/plain": [
              "     Score1    Score2    Score3    Score4    Score5\n",
              "B  1.730091  1.008379 -0.558240  0.156570 -0.295494\n",
              "C -1.784861 -2.007825 -1.513561  0.481401 -1.073825\n",
              "D -0.381563  0.257768  0.404481 -1.198314  2.342570\n",
              "E -1.356179 -0.827508 -0.463523  0.257998  1.177842\n",
              "F  1.774042 -0.025552  1.582065 -0.543565 -0.123493\n",
              "G  0.651485  0.401506  0.193115  0.810205 -1.272691\n",
              "H  0.501196 -0.395915  1.243877 -0.959738  0.708761\n",
              "I -0.284304  0.165753 -1.712767  0.212682 -0.118836\n",
              "J  0.854647  1.605375  0.562507  1.446787 -1.845467"
            ]
          },
          "metadata": {
            "tags": []
          },
          "execution_count": 59
        }
      ]
    },
    {
      "cell_type": "code",
      "metadata": {
        "id": "2IWbtx3S757B",
        "outputId": "8fff5620-c88d-425a-f7c5-e262fde9740d"
      },
      "source": [
        "new_df.drop('Score5',axis=1)"
      ],
      "execution_count": null,
      "outputs": [
        {
          "output_type": "execute_result",
          "data": {
            "text/html": [
              "<div>\n",
              "<style scoped>\n",
              "    .dataframe tbody tr th:only-of-type {\n",
              "        vertical-align: middle;\n",
              "    }\n",
              "\n",
              "    .dataframe tbody tr th {\n",
              "        vertical-align: top;\n",
              "    }\n",
              "\n",
              "    .dataframe thead th {\n",
              "        text-align: right;\n",
              "    }\n",
              "</style>\n",
              "<table border=\"1\" class=\"dataframe\">\n",
              "  <thead>\n",
              "    <tr style=\"text-align: right;\">\n",
              "      <th></th>\n",
              "      <th>Score1</th>\n",
              "      <th>Score2</th>\n",
              "      <th>Score3</th>\n",
              "      <th>Score4</th>\n",
              "    </tr>\n",
              "  </thead>\n",
              "  <tbody>\n",
              "    <tr>\n",
              "      <th>B</th>\n",
              "      <td>1.730091</td>\n",
              "      <td>1.008379</td>\n",
              "      <td>-0.558240</td>\n",
              "      <td>0.156570</td>\n",
              "    </tr>\n",
              "    <tr>\n",
              "      <th>C</th>\n",
              "      <td>-1.784861</td>\n",
              "      <td>-2.007825</td>\n",
              "      <td>-1.513561</td>\n",
              "      <td>0.481401</td>\n",
              "    </tr>\n",
              "    <tr>\n",
              "      <th>D</th>\n",
              "      <td>-0.381563</td>\n",
              "      <td>0.257768</td>\n",
              "      <td>0.404481</td>\n",
              "      <td>-1.198314</td>\n",
              "    </tr>\n",
              "    <tr>\n",
              "      <th>E</th>\n",
              "      <td>-1.356179</td>\n",
              "      <td>-0.827508</td>\n",
              "      <td>-0.463523</td>\n",
              "      <td>0.257998</td>\n",
              "    </tr>\n",
              "    <tr>\n",
              "      <th>F</th>\n",
              "      <td>1.774042</td>\n",
              "      <td>-0.025552</td>\n",
              "      <td>1.582065</td>\n",
              "      <td>-0.543565</td>\n",
              "    </tr>\n",
              "    <tr>\n",
              "      <th>G</th>\n",
              "      <td>0.651485</td>\n",
              "      <td>0.401506</td>\n",
              "      <td>0.193115</td>\n",
              "      <td>0.810205</td>\n",
              "    </tr>\n",
              "    <tr>\n",
              "      <th>H</th>\n",
              "      <td>0.501196</td>\n",
              "      <td>-0.395915</td>\n",
              "      <td>1.243877</td>\n",
              "      <td>-0.959738</td>\n",
              "    </tr>\n",
              "    <tr>\n",
              "      <th>I</th>\n",
              "      <td>-0.284304</td>\n",
              "      <td>0.165753</td>\n",
              "      <td>-1.712767</td>\n",
              "      <td>0.212682</td>\n",
              "    </tr>\n",
              "    <tr>\n",
              "      <th>J</th>\n",
              "      <td>0.854647</td>\n",
              "      <td>1.605375</td>\n",
              "      <td>0.562507</td>\n",
              "      <td>1.446787</td>\n",
              "    </tr>\n",
              "  </tbody>\n",
              "</table>\n",
              "</div>"
            ],
            "text/plain": [
              "     Score1    Score2    Score3    Score4\n",
              "B  1.730091  1.008379 -0.558240  0.156570\n",
              "C -1.784861 -2.007825 -1.513561  0.481401\n",
              "D -0.381563  0.257768  0.404481 -1.198314\n",
              "E -1.356179 -0.827508 -0.463523  0.257998\n",
              "F  1.774042 -0.025552  1.582065 -0.543565\n",
              "G  0.651485  0.401506  0.193115  0.810205\n",
              "H  0.501196 -0.395915  1.243877 -0.959738\n",
              "I -0.284304  0.165753 -1.712767  0.212682\n",
              "J  0.854647  1.605375  0.562507  1.446787"
            ]
          },
          "metadata": {
            "tags": []
          },
          "execution_count": 62
        }
      ]
    },
    {
      "cell_type": "code",
      "metadata": {
        "id": "Ypc_KDTD757B"
      },
      "source": [
        "score_2 = dataframe[['Score2']]"
      ],
      "execution_count": null,
      "outputs": []
    },
    {
      "cell_type": "code",
      "metadata": {
        "id": "PbRYuOX6757B",
        "outputId": "321e14ce-aa6d-4759-9e7a-abfcf9c6457f"
      },
      "source": [
        "score_2"
      ],
      "execution_count": null,
      "outputs": [
        {
          "output_type": "execute_result",
          "data": {
            "text/html": [
              "<div>\n",
              "<style scoped>\n",
              "    .dataframe tbody tr th:only-of-type {\n",
              "        vertical-align: middle;\n",
              "    }\n",
              "\n",
              "    .dataframe tbody tr th {\n",
              "        vertical-align: top;\n",
              "    }\n",
              "\n",
              "    .dataframe thead th {\n",
              "        text-align: right;\n",
              "    }\n",
              "</style>\n",
              "<table border=\"1\" class=\"dataframe\">\n",
              "  <thead>\n",
              "    <tr style=\"text-align: right;\">\n",
              "      <th></th>\n",
              "      <th>Score2</th>\n",
              "    </tr>\n",
              "  </thead>\n",
              "  <tbody>\n",
              "    <tr>\n",
              "      <th>A</th>\n",
              "      <td>-0.095061</td>\n",
              "    </tr>\n",
              "    <tr>\n",
              "      <th>B</th>\n",
              "      <td>1.008379</td>\n",
              "    </tr>\n",
              "    <tr>\n",
              "      <th>C</th>\n",
              "      <td>-2.007825</td>\n",
              "    </tr>\n",
              "    <tr>\n",
              "      <th>D</th>\n",
              "      <td>0.257768</td>\n",
              "    </tr>\n",
              "    <tr>\n",
              "      <th>E</th>\n",
              "      <td>-0.827508</td>\n",
              "    </tr>\n",
              "    <tr>\n",
              "      <th>F</th>\n",
              "      <td>-0.025552</td>\n",
              "    </tr>\n",
              "    <tr>\n",
              "      <th>G</th>\n",
              "      <td>0.401506</td>\n",
              "    </tr>\n",
              "    <tr>\n",
              "      <th>H</th>\n",
              "      <td>-0.395915</td>\n",
              "    </tr>\n",
              "    <tr>\n",
              "      <th>I</th>\n",
              "      <td>0.165753</td>\n",
              "    </tr>\n",
              "    <tr>\n",
              "      <th>J</th>\n",
              "      <td>1.605375</td>\n",
              "    </tr>\n",
              "  </tbody>\n",
              "</table>\n",
              "</div>"
            ],
            "text/plain": [
              "     Score2\n",
              "A -0.095061\n",
              "B  1.008379\n",
              "C -2.007825\n",
              "D  0.257768\n",
              "E -0.827508\n",
              "F -0.025552\n",
              "G  0.401506\n",
              "H -0.395915\n",
              "I  0.165753\n",
              "J  1.605375"
            ]
          },
          "metadata": {
            "tags": []
          },
          "execution_count": 65
        }
      ]
    },
    {
      "cell_type": "code",
      "metadata": {
        "id": "TaPO9X9L757C",
        "outputId": "b8812c30-43b2-47ce-93c0-c90e1d39559e"
      },
      "source": [
        "dataframe"
      ],
      "execution_count": null,
      "outputs": [
        {
          "output_type": "execute_result",
          "data": {
            "text/html": [
              "<div>\n",
              "<style scoped>\n",
              "    .dataframe tbody tr th:only-of-type {\n",
              "        vertical-align: middle;\n",
              "    }\n",
              "\n",
              "    .dataframe tbody tr th {\n",
              "        vertical-align: top;\n",
              "    }\n",
              "\n",
              "    .dataframe thead th {\n",
              "        text-align: right;\n",
              "    }\n",
              "</style>\n",
              "<table border=\"1\" class=\"dataframe\">\n",
              "  <thead>\n",
              "    <tr style=\"text-align: right;\">\n",
              "      <th></th>\n",
              "      <th>Score1</th>\n",
              "      <th>Score2</th>\n",
              "      <th>Score3</th>\n",
              "      <th>Score4</th>\n",
              "      <th>Score5</th>\n",
              "      <th>Score6</th>\n",
              "    </tr>\n",
              "  </thead>\n",
              "  <tbody>\n",
              "    <tr>\n",
              "      <th>A</th>\n",
              "      <td>-0.882171</td>\n",
              "      <td>-0.095061</td>\n",
              "      <td>2.625610</td>\n",
              "      <td>-1.426068</td>\n",
              "      <td>0.187746</td>\n",
              "      <td>-0.977232</td>\n",
              "    </tr>\n",
              "    <tr>\n",
              "      <th>B</th>\n",
              "      <td>1.730091</td>\n",
              "      <td>1.008379</td>\n",
              "      <td>-0.558240</td>\n",
              "      <td>0.156570</td>\n",
              "      <td>-0.295494</td>\n",
              "      <td>2.738470</td>\n",
              "    </tr>\n",
              "    <tr>\n",
              "      <th>C</th>\n",
              "      <td>-1.784861</td>\n",
              "      <td>-2.007825</td>\n",
              "      <td>-1.513561</td>\n",
              "      <td>0.481401</td>\n",
              "      <td>-1.073825</td>\n",
              "      <td>-3.792686</td>\n",
              "    </tr>\n",
              "    <tr>\n",
              "      <th>D</th>\n",
              "      <td>-0.381563</td>\n",
              "      <td>0.257768</td>\n",
              "      <td>0.404481</td>\n",
              "      <td>-1.198314</td>\n",
              "      <td>2.342570</td>\n",
              "      <td>-0.123795</td>\n",
              "    </tr>\n",
              "    <tr>\n",
              "      <th>E</th>\n",
              "      <td>-1.356179</td>\n",
              "      <td>-0.827508</td>\n",
              "      <td>-0.463523</td>\n",
              "      <td>0.257998</td>\n",
              "      <td>1.177842</td>\n",
              "      <td>-2.183687</td>\n",
              "    </tr>\n",
              "    <tr>\n",
              "      <th>F</th>\n",
              "      <td>1.774042</td>\n",
              "      <td>-0.025552</td>\n",
              "      <td>1.582065</td>\n",
              "      <td>-0.543565</td>\n",
              "      <td>-0.123493</td>\n",
              "      <td>1.748490</td>\n",
              "    </tr>\n",
              "    <tr>\n",
              "      <th>G</th>\n",
              "      <td>0.651485</td>\n",
              "      <td>0.401506</td>\n",
              "      <td>0.193115</td>\n",
              "      <td>0.810205</td>\n",
              "      <td>-1.272691</td>\n",
              "      <td>1.052992</td>\n",
              "    </tr>\n",
              "    <tr>\n",
              "      <th>H</th>\n",
              "      <td>0.501196</td>\n",
              "      <td>-0.395915</td>\n",
              "      <td>1.243877</td>\n",
              "      <td>-0.959738</td>\n",
              "      <td>0.708761</td>\n",
              "      <td>0.105281</td>\n",
              "    </tr>\n",
              "    <tr>\n",
              "      <th>I</th>\n",
              "      <td>-0.284304</td>\n",
              "      <td>0.165753</td>\n",
              "      <td>-1.712767</td>\n",
              "      <td>0.212682</td>\n",
              "      <td>-0.118836</td>\n",
              "      <td>-0.118551</td>\n",
              "    </tr>\n",
              "    <tr>\n",
              "      <th>J</th>\n",
              "      <td>0.854647</td>\n",
              "      <td>1.605375</td>\n",
              "      <td>0.562507</td>\n",
              "      <td>1.446787</td>\n",
              "      <td>-1.845467</td>\n",
              "      <td>2.460022</td>\n",
              "    </tr>\n",
              "  </tbody>\n",
              "</table>\n",
              "</div>"
            ],
            "text/plain": [
              "     Score1    Score2    Score3    Score4    Score5    Score6\n",
              "A -0.882171 -0.095061  2.625610 -1.426068  0.187746 -0.977232\n",
              "B  1.730091  1.008379 -0.558240  0.156570 -0.295494  2.738470\n",
              "C -1.784861 -2.007825 -1.513561  0.481401 -1.073825 -3.792686\n",
              "D -0.381563  0.257768  0.404481 -1.198314  2.342570 -0.123795\n",
              "E -1.356179 -0.827508 -0.463523  0.257998  1.177842 -2.183687\n",
              "F  1.774042 -0.025552  1.582065 -0.543565 -0.123493  1.748490\n",
              "G  0.651485  0.401506  0.193115  0.810205 -1.272691  1.052992\n",
              "H  0.501196 -0.395915  1.243877 -0.959738  0.708761  0.105281\n",
              "I -0.284304  0.165753 -1.712767  0.212682 -0.118836 -0.118551\n",
              "J  0.854647  1.605375  0.562507  1.446787 -1.845467  2.460022"
            ]
          },
          "metadata": {
            "tags": []
          },
          "execution_count": 66
        }
      ]
    },
    {
      "cell_type": "code",
      "metadata": {
        "id": "xCCBU6mb757C"
      },
      "source": [
        "var1 = dataframe.loc['F']"
      ],
      "execution_count": null,
      "outputs": []
    },
    {
      "cell_type": "code",
      "metadata": {
        "id": "1aUZ4UpH757C",
        "outputId": "7eb21689-04f1-465c-d3d1-a8f2a1032ba2"
      },
      "source": [
        "type(var1)"
      ],
      "execution_count": null,
      "outputs": [
        {
          "output_type": "execute_result",
          "data": {
            "text/plain": [
              "pandas.core.series.Series"
            ]
          },
          "metadata": {
            "tags": []
          },
          "execution_count": 69
        }
      ]
    },
    {
      "cell_type": "code",
      "metadata": {
        "id": "mnihH574757C",
        "outputId": "8c6dcd43-47d9-4e35-c28f-218b3226151c"
      },
      "source": [
        "dataframe.iloc[2]"
      ],
      "execution_count": null,
      "outputs": [
        {
          "output_type": "execute_result",
          "data": {
            "text/plain": [
              "Score1   -1.784861\n",
              "Score2   -2.007825\n",
              "Score3   -1.513561\n",
              "Score4    0.481401\n",
              "Score5   -1.073825\n",
              "Score6   -3.792686\n",
              "Name: C, dtype: float64"
            ]
          },
          "metadata": {
            "tags": []
          },
          "execution_count": 71
        }
      ]
    },
    {
      "cell_type": "code",
      "metadata": {
        "id": "5Zk4d2cx757D"
      },
      "source": [
        "var3 = dataframe.loc['A','Score1']"
      ],
      "execution_count": null,
      "outputs": []
    },
    {
      "cell_type": "code",
      "metadata": {
        "id": "HD2XhNf7757D",
        "outputId": "6e5f02b9-ea2c-4b42-bde9-c2a4b1031cca"
      },
      "source": [
        "type(var3)"
      ],
      "execution_count": null,
      "outputs": [
        {
          "output_type": "execute_result",
          "data": {
            "text/plain": [
              "numpy.float64"
            ]
          },
          "metadata": {
            "tags": []
          },
          "execution_count": 77
        }
      ]
    },
    {
      "cell_type": "code",
      "metadata": {
        "id": "P_KjLfhW757D"
      },
      "source": [
        "var2 = dataframe.loc[['A','B'],['Score1','Score2']]"
      ],
      "execution_count": null,
      "outputs": []
    },
    {
      "cell_type": "code",
      "metadata": {
        "id": "dUK4k_9w757D",
        "outputId": "1e7413ca-bc8f-4810-a2fc-6b4a1ed196a4"
      },
      "source": [
        "type(var2)"
      ],
      "execution_count": null,
      "outputs": [
        {
          "output_type": "execute_result",
          "data": {
            "text/plain": [
              "pandas.core.frame.DataFrame"
            ]
          },
          "metadata": {
            "tags": []
          },
          "execution_count": 75
        }
      ]
    },
    {
      "cell_type": "code",
      "metadata": {
        "id": "rx5DiqFW757E",
        "outputId": "e101634b-ab9e-4aac-f0e9-2993bbd4f811"
      },
      "source": [
        "dataframe"
      ],
      "execution_count": null,
      "outputs": [
        {
          "output_type": "execute_result",
          "data": {
            "text/html": [
              "<div>\n",
              "<style scoped>\n",
              "    .dataframe tbody tr th:only-of-type {\n",
              "        vertical-align: middle;\n",
              "    }\n",
              "\n",
              "    .dataframe tbody tr th {\n",
              "        vertical-align: top;\n",
              "    }\n",
              "\n",
              "    .dataframe thead th {\n",
              "        text-align: right;\n",
              "    }\n",
              "</style>\n",
              "<table border=\"1\" class=\"dataframe\">\n",
              "  <thead>\n",
              "    <tr style=\"text-align: right;\">\n",
              "      <th></th>\n",
              "      <th>Score1</th>\n",
              "      <th>Score2</th>\n",
              "      <th>Score3</th>\n",
              "      <th>Score4</th>\n",
              "      <th>Score5</th>\n",
              "      <th>Score6</th>\n",
              "    </tr>\n",
              "  </thead>\n",
              "  <tbody>\n",
              "    <tr>\n",
              "      <th>A</th>\n",
              "      <td>-0.882171</td>\n",
              "      <td>-0.095061</td>\n",
              "      <td>2.625610</td>\n",
              "      <td>-1.426068</td>\n",
              "      <td>0.187746</td>\n",
              "      <td>-0.977232</td>\n",
              "    </tr>\n",
              "    <tr>\n",
              "      <th>B</th>\n",
              "      <td>1.730091</td>\n",
              "      <td>1.008379</td>\n",
              "      <td>-0.558240</td>\n",
              "      <td>0.156570</td>\n",
              "      <td>-0.295494</td>\n",
              "      <td>2.738470</td>\n",
              "    </tr>\n",
              "    <tr>\n",
              "      <th>C</th>\n",
              "      <td>-1.784861</td>\n",
              "      <td>-2.007825</td>\n",
              "      <td>-1.513561</td>\n",
              "      <td>0.481401</td>\n",
              "      <td>-1.073825</td>\n",
              "      <td>-3.792686</td>\n",
              "    </tr>\n",
              "    <tr>\n",
              "      <th>D</th>\n",
              "      <td>-0.381563</td>\n",
              "      <td>0.257768</td>\n",
              "      <td>0.404481</td>\n",
              "      <td>-1.198314</td>\n",
              "      <td>2.342570</td>\n",
              "      <td>-0.123795</td>\n",
              "    </tr>\n",
              "    <tr>\n",
              "      <th>E</th>\n",
              "      <td>-1.356179</td>\n",
              "      <td>-0.827508</td>\n",
              "      <td>-0.463523</td>\n",
              "      <td>0.257998</td>\n",
              "      <td>1.177842</td>\n",
              "      <td>-2.183687</td>\n",
              "    </tr>\n",
              "    <tr>\n",
              "      <th>F</th>\n",
              "      <td>1.774042</td>\n",
              "      <td>-0.025552</td>\n",
              "      <td>1.582065</td>\n",
              "      <td>-0.543565</td>\n",
              "      <td>-0.123493</td>\n",
              "      <td>1.748490</td>\n",
              "    </tr>\n",
              "    <tr>\n",
              "      <th>G</th>\n",
              "      <td>0.651485</td>\n",
              "      <td>0.401506</td>\n",
              "      <td>0.193115</td>\n",
              "      <td>0.810205</td>\n",
              "      <td>-1.272691</td>\n",
              "      <td>1.052992</td>\n",
              "    </tr>\n",
              "    <tr>\n",
              "      <th>H</th>\n",
              "      <td>0.501196</td>\n",
              "      <td>-0.395915</td>\n",
              "      <td>1.243877</td>\n",
              "      <td>-0.959738</td>\n",
              "      <td>0.708761</td>\n",
              "      <td>0.105281</td>\n",
              "    </tr>\n",
              "    <tr>\n",
              "      <th>I</th>\n",
              "      <td>-0.284304</td>\n",
              "      <td>0.165753</td>\n",
              "      <td>-1.712767</td>\n",
              "      <td>0.212682</td>\n",
              "      <td>-0.118836</td>\n",
              "      <td>-0.118551</td>\n",
              "    </tr>\n",
              "    <tr>\n",
              "      <th>J</th>\n",
              "      <td>0.854647</td>\n",
              "      <td>1.605375</td>\n",
              "      <td>0.562507</td>\n",
              "      <td>1.446787</td>\n",
              "      <td>-1.845467</td>\n",
              "      <td>2.460022</td>\n",
              "    </tr>\n",
              "  </tbody>\n",
              "</table>\n",
              "</div>"
            ],
            "text/plain": [
              "     Score1    Score2    Score3    Score4    Score5    Score6\n",
              "A -0.882171 -0.095061  2.625610 -1.426068  0.187746 -0.977232\n",
              "B  1.730091  1.008379 -0.558240  0.156570 -0.295494  2.738470\n",
              "C -1.784861 -2.007825 -1.513561  0.481401 -1.073825 -3.792686\n",
              "D -0.381563  0.257768  0.404481 -1.198314  2.342570 -0.123795\n",
              "E -1.356179 -0.827508 -0.463523  0.257998  1.177842 -2.183687\n",
              "F  1.774042 -0.025552  1.582065 -0.543565 -0.123493  1.748490\n",
              "G  0.651485  0.401506  0.193115  0.810205 -1.272691  1.052992\n",
              "H  0.501196 -0.395915  1.243877 -0.959738  0.708761  0.105281\n",
              "I -0.284304  0.165753 -1.712767  0.212682 -0.118836 -0.118551\n",
              "J  0.854647  1.605375  0.562507  1.446787 -1.845467  2.460022"
            ]
          },
          "metadata": {
            "tags": []
          },
          "execution_count": 79
        }
      ]
    },
    {
      "cell_type": "code",
      "metadata": {
        "id": "-djhIKRO757E",
        "outputId": "b1d691b9-44d0-4683-af00-7043dc84b12a"
      },
      "source": [
        "dataframe > 0.5"
      ],
      "execution_count": null,
      "outputs": [
        {
          "output_type": "execute_result",
          "data": {
            "text/html": [
              "<div>\n",
              "<style scoped>\n",
              "    .dataframe tbody tr th:only-of-type {\n",
              "        vertical-align: middle;\n",
              "    }\n",
              "\n",
              "    .dataframe tbody tr th {\n",
              "        vertical-align: top;\n",
              "    }\n",
              "\n",
              "    .dataframe thead th {\n",
              "        text-align: right;\n",
              "    }\n",
              "</style>\n",
              "<table border=\"1\" class=\"dataframe\">\n",
              "  <thead>\n",
              "    <tr style=\"text-align: right;\">\n",
              "      <th></th>\n",
              "      <th>Score1</th>\n",
              "      <th>Score2</th>\n",
              "      <th>Score3</th>\n",
              "      <th>Score4</th>\n",
              "      <th>Score5</th>\n",
              "      <th>Score6</th>\n",
              "    </tr>\n",
              "  </thead>\n",
              "  <tbody>\n",
              "    <tr>\n",
              "      <th>A</th>\n",
              "      <td>False</td>\n",
              "      <td>False</td>\n",
              "      <td>True</td>\n",
              "      <td>False</td>\n",
              "      <td>False</td>\n",
              "      <td>False</td>\n",
              "    </tr>\n",
              "    <tr>\n",
              "      <th>B</th>\n",
              "      <td>True</td>\n",
              "      <td>True</td>\n",
              "      <td>False</td>\n",
              "      <td>False</td>\n",
              "      <td>False</td>\n",
              "      <td>True</td>\n",
              "    </tr>\n",
              "    <tr>\n",
              "      <th>C</th>\n",
              "      <td>False</td>\n",
              "      <td>False</td>\n",
              "      <td>False</td>\n",
              "      <td>False</td>\n",
              "      <td>False</td>\n",
              "      <td>False</td>\n",
              "    </tr>\n",
              "    <tr>\n",
              "      <th>D</th>\n",
              "      <td>False</td>\n",
              "      <td>False</td>\n",
              "      <td>False</td>\n",
              "      <td>False</td>\n",
              "      <td>True</td>\n",
              "      <td>False</td>\n",
              "    </tr>\n",
              "    <tr>\n",
              "      <th>E</th>\n",
              "      <td>False</td>\n",
              "      <td>False</td>\n",
              "      <td>False</td>\n",
              "      <td>False</td>\n",
              "      <td>True</td>\n",
              "      <td>False</td>\n",
              "    </tr>\n",
              "    <tr>\n",
              "      <th>F</th>\n",
              "      <td>True</td>\n",
              "      <td>False</td>\n",
              "      <td>True</td>\n",
              "      <td>False</td>\n",
              "      <td>False</td>\n",
              "      <td>True</td>\n",
              "    </tr>\n",
              "    <tr>\n",
              "      <th>G</th>\n",
              "      <td>True</td>\n",
              "      <td>False</td>\n",
              "      <td>False</td>\n",
              "      <td>True</td>\n",
              "      <td>False</td>\n",
              "      <td>True</td>\n",
              "    </tr>\n",
              "    <tr>\n",
              "      <th>H</th>\n",
              "      <td>True</td>\n",
              "      <td>False</td>\n",
              "      <td>True</td>\n",
              "      <td>False</td>\n",
              "      <td>True</td>\n",
              "      <td>False</td>\n",
              "    </tr>\n",
              "    <tr>\n",
              "      <th>I</th>\n",
              "      <td>False</td>\n",
              "      <td>False</td>\n",
              "      <td>False</td>\n",
              "      <td>False</td>\n",
              "      <td>False</td>\n",
              "      <td>False</td>\n",
              "    </tr>\n",
              "    <tr>\n",
              "      <th>J</th>\n",
              "      <td>True</td>\n",
              "      <td>True</td>\n",
              "      <td>True</td>\n",
              "      <td>True</td>\n",
              "      <td>False</td>\n",
              "      <td>True</td>\n",
              "    </tr>\n",
              "  </tbody>\n",
              "</table>\n",
              "</div>"
            ],
            "text/plain": [
              "   Score1  Score2  Score3  Score4  Score5  Score6\n",
              "A   False   False    True   False   False   False\n",
              "B    True    True   False   False   False    True\n",
              "C   False   False   False   False   False   False\n",
              "D   False   False   False   False    True   False\n",
              "E   False   False   False   False    True   False\n",
              "F    True   False    True   False   False    True\n",
              "G    True   False   False    True   False    True\n",
              "H    True   False    True   False    True   False\n",
              "I   False   False   False   False   False   False\n",
              "J    True    True    True    True   False    True"
            ]
          },
          "metadata": {
            "tags": []
          },
          "execution_count": 80
        }
      ]
    },
    {
      "cell_type": "code",
      "metadata": {
        "id": "xr8Kgt_S757F",
        "outputId": "25beaa65-d691-4163-8ac3-58547f2aaf16"
      },
      "source": [
        "dataframe[dataframe > 0.5]"
      ],
      "execution_count": null,
      "outputs": [
        {
          "output_type": "execute_result",
          "data": {
            "text/html": [
              "<div>\n",
              "<style scoped>\n",
              "    .dataframe tbody tr th:only-of-type {\n",
              "        vertical-align: middle;\n",
              "    }\n",
              "\n",
              "    .dataframe tbody tr th {\n",
              "        vertical-align: top;\n",
              "    }\n",
              "\n",
              "    .dataframe thead th {\n",
              "        text-align: right;\n",
              "    }\n",
              "</style>\n",
              "<table border=\"1\" class=\"dataframe\">\n",
              "  <thead>\n",
              "    <tr style=\"text-align: right;\">\n",
              "      <th></th>\n",
              "      <th>Score1</th>\n",
              "      <th>Score2</th>\n",
              "      <th>Score3</th>\n",
              "      <th>Score4</th>\n",
              "      <th>Score5</th>\n",
              "      <th>Score6</th>\n",
              "    </tr>\n",
              "  </thead>\n",
              "  <tbody>\n",
              "    <tr>\n",
              "      <th>A</th>\n",
              "      <td>NaN</td>\n",
              "      <td>NaN</td>\n",
              "      <td>2.625610</td>\n",
              "      <td>NaN</td>\n",
              "      <td>NaN</td>\n",
              "      <td>NaN</td>\n",
              "    </tr>\n",
              "    <tr>\n",
              "      <th>B</th>\n",
              "      <td>1.730091</td>\n",
              "      <td>1.008379</td>\n",
              "      <td>NaN</td>\n",
              "      <td>NaN</td>\n",
              "      <td>NaN</td>\n",
              "      <td>2.738470</td>\n",
              "    </tr>\n",
              "    <tr>\n",
              "      <th>C</th>\n",
              "      <td>NaN</td>\n",
              "      <td>NaN</td>\n",
              "      <td>NaN</td>\n",
              "      <td>NaN</td>\n",
              "      <td>NaN</td>\n",
              "      <td>NaN</td>\n",
              "    </tr>\n",
              "    <tr>\n",
              "      <th>D</th>\n",
              "      <td>NaN</td>\n",
              "      <td>NaN</td>\n",
              "      <td>NaN</td>\n",
              "      <td>NaN</td>\n",
              "      <td>2.342570</td>\n",
              "      <td>NaN</td>\n",
              "    </tr>\n",
              "    <tr>\n",
              "      <th>E</th>\n",
              "      <td>NaN</td>\n",
              "      <td>NaN</td>\n",
              "      <td>NaN</td>\n",
              "      <td>NaN</td>\n",
              "      <td>1.177842</td>\n",
              "      <td>NaN</td>\n",
              "    </tr>\n",
              "    <tr>\n",
              "      <th>F</th>\n",
              "      <td>1.774042</td>\n",
              "      <td>NaN</td>\n",
              "      <td>1.582065</td>\n",
              "      <td>NaN</td>\n",
              "      <td>NaN</td>\n",
              "      <td>1.748490</td>\n",
              "    </tr>\n",
              "    <tr>\n",
              "      <th>G</th>\n",
              "      <td>0.651485</td>\n",
              "      <td>NaN</td>\n",
              "      <td>NaN</td>\n",
              "      <td>0.810205</td>\n",
              "      <td>NaN</td>\n",
              "      <td>1.052992</td>\n",
              "    </tr>\n",
              "    <tr>\n",
              "      <th>H</th>\n",
              "      <td>0.501196</td>\n",
              "      <td>NaN</td>\n",
              "      <td>1.243877</td>\n",
              "      <td>NaN</td>\n",
              "      <td>0.708761</td>\n",
              "      <td>NaN</td>\n",
              "    </tr>\n",
              "    <tr>\n",
              "      <th>I</th>\n",
              "      <td>NaN</td>\n",
              "      <td>NaN</td>\n",
              "      <td>NaN</td>\n",
              "      <td>NaN</td>\n",
              "      <td>NaN</td>\n",
              "      <td>NaN</td>\n",
              "    </tr>\n",
              "    <tr>\n",
              "      <th>J</th>\n",
              "      <td>0.854647</td>\n",
              "      <td>1.605375</td>\n",
              "      <td>0.562507</td>\n",
              "      <td>1.446787</td>\n",
              "      <td>NaN</td>\n",
              "      <td>2.460022</td>\n",
              "    </tr>\n",
              "  </tbody>\n",
              "</table>\n",
              "</div>"
            ],
            "text/plain": [
              "     Score1    Score2    Score3    Score4    Score5    Score6\n",
              "A       NaN       NaN  2.625610       NaN       NaN       NaN\n",
              "B  1.730091  1.008379       NaN       NaN       NaN  2.738470\n",
              "C       NaN       NaN       NaN       NaN       NaN       NaN\n",
              "D       NaN       NaN       NaN       NaN  2.342570       NaN\n",
              "E       NaN       NaN       NaN       NaN  1.177842       NaN\n",
              "F  1.774042       NaN  1.582065       NaN       NaN  1.748490\n",
              "G  0.651485       NaN       NaN  0.810205       NaN  1.052992\n",
              "H  0.501196       NaN  1.243877       NaN  0.708761       NaN\n",
              "I       NaN       NaN       NaN       NaN       NaN       NaN\n",
              "J  0.854647  1.605375  0.562507  1.446787       NaN  2.460022"
            ]
          },
          "metadata": {
            "tags": []
          },
          "execution_count": 81
        }
      ]
    },
    {
      "cell_type": "code",
      "metadata": {
        "id": "SBQZiRB8757F",
        "outputId": "e3b2547e-8246-42fc-eba4-2e20af8b3384"
      },
      "source": [
        "dataframe[dataframe['Score1']>0.5]"
      ],
      "execution_count": null,
      "outputs": [
        {
          "output_type": "execute_result",
          "data": {
            "text/html": [
              "<div>\n",
              "<style scoped>\n",
              "    .dataframe tbody tr th:only-of-type {\n",
              "        vertical-align: middle;\n",
              "    }\n",
              "\n",
              "    .dataframe tbody tr th {\n",
              "        vertical-align: top;\n",
              "    }\n",
              "\n",
              "    .dataframe thead th {\n",
              "        text-align: right;\n",
              "    }\n",
              "</style>\n",
              "<table border=\"1\" class=\"dataframe\">\n",
              "  <thead>\n",
              "    <tr style=\"text-align: right;\">\n",
              "      <th></th>\n",
              "      <th>Score1</th>\n",
              "      <th>Score2</th>\n",
              "      <th>Score3</th>\n",
              "      <th>Score4</th>\n",
              "      <th>Score5</th>\n",
              "      <th>Score6</th>\n",
              "    </tr>\n",
              "  </thead>\n",
              "  <tbody>\n",
              "    <tr>\n",
              "      <th>B</th>\n",
              "      <td>1.730091</td>\n",
              "      <td>1.008379</td>\n",
              "      <td>-0.558240</td>\n",
              "      <td>0.156570</td>\n",
              "      <td>-0.295494</td>\n",
              "      <td>2.738470</td>\n",
              "    </tr>\n",
              "    <tr>\n",
              "      <th>F</th>\n",
              "      <td>1.774042</td>\n",
              "      <td>-0.025552</td>\n",
              "      <td>1.582065</td>\n",
              "      <td>-0.543565</td>\n",
              "      <td>-0.123493</td>\n",
              "      <td>1.748490</td>\n",
              "    </tr>\n",
              "    <tr>\n",
              "      <th>G</th>\n",
              "      <td>0.651485</td>\n",
              "      <td>0.401506</td>\n",
              "      <td>0.193115</td>\n",
              "      <td>0.810205</td>\n",
              "      <td>-1.272691</td>\n",
              "      <td>1.052992</td>\n",
              "    </tr>\n",
              "    <tr>\n",
              "      <th>H</th>\n",
              "      <td>0.501196</td>\n",
              "      <td>-0.395915</td>\n",
              "      <td>1.243877</td>\n",
              "      <td>-0.959738</td>\n",
              "      <td>0.708761</td>\n",
              "      <td>0.105281</td>\n",
              "    </tr>\n",
              "    <tr>\n",
              "      <th>J</th>\n",
              "      <td>0.854647</td>\n",
              "      <td>1.605375</td>\n",
              "      <td>0.562507</td>\n",
              "      <td>1.446787</td>\n",
              "      <td>-1.845467</td>\n",
              "      <td>2.460022</td>\n",
              "    </tr>\n",
              "  </tbody>\n",
              "</table>\n",
              "</div>"
            ],
            "text/plain": [
              "     Score1    Score2    Score3    Score4    Score5    Score6\n",
              "B  1.730091  1.008379 -0.558240  0.156570 -0.295494  2.738470\n",
              "F  1.774042 -0.025552  1.582065 -0.543565 -0.123493  1.748490\n",
              "G  0.651485  0.401506  0.193115  0.810205 -1.272691  1.052992\n",
              "H  0.501196 -0.395915  1.243877 -0.959738  0.708761  0.105281\n",
              "J  0.854647  1.605375  0.562507  1.446787 -1.845467  2.460022"
            ]
          },
          "metadata": {
            "tags": []
          },
          "execution_count": 82
        }
      ]
    },
    {
      "cell_type": "code",
      "metadata": {
        "id": "urfGWXz1757G",
        "outputId": "28f4c3dc-bff1-4b89-a0d6-e54ab381d1d9"
      },
      "source": [
        "dataframe[dataframe['Score1']>0.5][['Score2','Score3']]"
      ],
      "execution_count": null,
      "outputs": [
        {
          "output_type": "execute_result",
          "data": {
            "text/html": [
              "<div>\n",
              "<style scoped>\n",
              "    .dataframe tbody tr th:only-of-type {\n",
              "        vertical-align: middle;\n",
              "    }\n",
              "\n",
              "    .dataframe tbody tr th {\n",
              "        vertical-align: top;\n",
              "    }\n",
              "\n",
              "    .dataframe thead th {\n",
              "        text-align: right;\n",
              "    }\n",
              "</style>\n",
              "<table border=\"1\" class=\"dataframe\">\n",
              "  <thead>\n",
              "    <tr style=\"text-align: right;\">\n",
              "      <th></th>\n",
              "      <th>Score2</th>\n",
              "      <th>Score3</th>\n",
              "    </tr>\n",
              "  </thead>\n",
              "  <tbody>\n",
              "    <tr>\n",
              "      <th>B</th>\n",
              "      <td>1.008379</td>\n",
              "      <td>-0.558240</td>\n",
              "    </tr>\n",
              "    <tr>\n",
              "      <th>F</th>\n",
              "      <td>-0.025552</td>\n",
              "      <td>1.582065</td>\n",
              "    </tr>\n",
              "    <tr>\n",
              "      <th>G</th>\n",
              "      <td>0.401506</td>\n",
              "      <td>0.193115</td>\n",
              "    </tr>\n",
              "    <tr>\n",
              "      <th>H</th>\n",
              "      <td>-0.395915</td>\n",
              "      <td>1.243877</td>\n",
              "    </tr>\n",
              "    <tr>\n",
              "      <th>J</th>\n",
              "      <td>1.605375</td>\n",
              "      <td>0.562507</td>\n",
              "    </tr>\n",
              "  </tbody>\n",
              "</table>\n",
              "</div>"
            ],
            "text/plain": [
              "     Score2    Score3\n",
              "B  1.008379 -0.558240\n",
              "F -0.025552  1.582065\n",
              "G  0.401506  0.193115\n",
              "H -0.395915  1.243877\n",
              "J  1.605375  0.562507"
            ]
          },
          "metadata": {
            "tags": []
          },
          "execution_count": 89
        }
      ]
    },
    {
      "cell_type": "code",
      "metadata": {
        "id": "CVl-sQEA757G",
        "outputId": "074f1d9c-88e5-4176-c158-10c3bc78fd83"
      },
      "source": [
        "dataframe"
      ],
      "execution_count": null,
      "outputs": [
        {
          "output_type": "execute_result",
          "data": {
            "text/html": [
              "<div>\n",
              "<style scoped>\n",
              "    .dataframe tbody tr th:only-of-type {\n",
              "        vertical-align: middle;\n",
              "    }\n",
              "\n",
              "    .dataframe tbody tr th {\n",
              "        vertical-align: top;\n",
              "    }\n",
              "\n",
              "    .dataframe thead th {\n",
              "        text-align: right;\n",
              "    }\n",
              "</style>\n",
              "<table border=\"1\" class=\"dataframe\">\n",
              "  <thead>\n",
              "    <tr style=\"text-align: right;\">\n",
              "      <th></th>\n",
              "      <th>Score1</th>\n",
              "      <th>Score2</th>\n",
              "      <th>Score3</th>\n",
              "      <th>Score4</th>\n",
              "      <th>Score5</th>\n",
              "      <th>Score6</th>\n",
              "    </tr>\n",
              "  </thead>\n",
              "  <tbody>\n",
              "    <tr>\n",
              "      <th>A</th>\n",
              "      <td>-0.882171</td>\n",
              "      <td>-0.095061</td>\n",
              "      <td>2.625610</td>\n",
              "      <td>-1.426068</td>\n",
              "      <td>0.187746</td>\n",
              "      <td>-0.977232</td>\n",
              "    </tr>\n",
              "    <tr>\n",
              "      <th>B</th>\n",
              "      <td>1.730091</td>\n",
              "      <td>1.008379</td>\n",
              "      <td>-0.558240</td>\n",
              "      <td>0.156570</td>\n",
              "      <td>-0.295494</td>\n",
              "      <td>2.738470</td>\n",
              "    </tr>\n",
              "    <tr>\n",
              "      <th>C</th>\n",
              "      <td>-1.784861</td>\n",
              "      <td>-2.007825</td>\n",
              "      <td>-1.513561</td>\n",
              "      <td>0.481401</td>\n",
              "      <td>-1.073825</td>\n",
              "      <td>-3.792686</td>\n",
              "    </tr>\n",
              "    <tr>\n",
              "      <th>D</th>\n",
              "      <td>-0.381563</td>\n",
              "      <td>0.257768</td>\n",
              "      <td>0.404481</td>\n",
              "      <td>-1.198314</td>\n",
              "      <td>2.342570</td>\n",
              "      <td>-0.123795</td>\n",
              "    </tr>\n",
              "    <tr>\n",
              "      <th>E</th>\n",
              "      <td>-1.356179</td>\n",
              "      <td>-0.827508</td>\n",
              "      <td>-0.463523</td>\n",
              "      <td>0.257998</td>\n",
              "      <td>1.177842</td>\n",
              "      <td>-2.183687</td>\n",
              "    </tr>\n",
              "    <tr>\n",
              "      <th>F</th>\n",
              "      <td>1.774042</td>\n",
              "      <td>-0.025552</td>\n",
              "      <td>1.582065</td>\n",
              "      <td>-0.543565</td>\n",
              "      <td>-0.123493</td>\n",
              "      <td>1.748490</td>\n",
              "    </tr>\n",
              "    <tr>\n",
              "      <th>G</th>\n",
              "      <td>0.651485</td>\n",
              "      <td>0.401506</td>\n",
              "      <td>0.193115</td>\n",
              "      <td>0.810205</td>\n",
              "      <td>-1.272691</td>\n",
              "      <td>1.052992</td>\n",
              "    </tr>\n",
              "    <tr>\n",
              "      <th>H</th>\n",
              "      <td>0.501196</td>\n",
              "      <td>-0.395915</td>\n",
              "      <td>1.243877</td>\n",
              "      <td>-0.959738</td>\n",
              "      <td>0.708761</td>\n",
              "      <td>0.105281</td>\n",
              "    </tr>\n",
              "    <tr>\n",
              "      <th>I</th>\n",
              "      <td>-0.284304</td>\n",
              "      <td>0.165753</td>\n",
              "      <td>-1.712767</td>\n",
              "      <td>0.212682</td>\n",
              "      <td>-0.118836</td>\n",
              "      <td>-0.118551</td>\n",
              "    </tr>\n",
              "    <tr>\n",
              "      <th>J</th>\n",
              "      <td>0.854647</td>\n",
              "      <td>1.605375</td>\n",
              "      <td>0.562507</td>\n",
              "      <td>1.446787</td>\n",
              "      <td>-1.845467</td>\n",
              "      <td>2.460022</td>\n",
              "    </tr>\n",
              "  </tbody>\n",
              "</table>\n",
              "</div>"
            ],
            "text/plain": [
              "     Score1    Score2    Score3    Score4    Score5    Score6\n",
              "A -0.882171 -0.095061  2.625610 -1.426068  0.187746 -0.977232\n",
              "B  1.730091  1.008379 -0.558240  0.156570 -0.295494  2.738470\n",
              "C -1.784861 -2.007825 -1.513561  0.481401 -1.073825 -3.792686\n",
              "D -0.381563  0.257768  0.404481 -1.198314  2.342570 -0.123795\n",
              "E -1.356179 -0.827508 -0.463523  0.257998  1.177842 -2.183687\n",
              "F  1.774042 -0.025552  1.582065 -0.543565 -0.123493  1.748490\n",
              "G  0.651485  0.401506  0.193115  0.810205 -1.272691  1.052992\n",
              "H  0.501196 -0.395915  1.243877 -0.959738  0.708761  0.105281\n",
              "I -0.284304  0.165753 -1.712767  0.212682 -0.118836 -0.118551\n",
              "J  0.854647  1.605375  0.562507  1.446787 -1.845467  2.460022"
            ]
          },
          "metadata": {
            "tags": []
          },
          "execution_count": 90
        }
      ]
    },
    {
      "cell_type": "code",
      "metadata": {
        "id": "dSBenpPf757H",
        "outputId": "12b11aa8-d6d3-45e7-9afc-feb523821550"
      },
      "source": [
        "dataframe.reset_index()"
      ],
      "execution_count": null,
      "outputs": [
        {
          "output_type": "execute_result",
          "data": {
            "text/html": [
              "<div>\n",
              "<style scoped>\n",
              "    .dataframe tbody tr th:only-of-type {\n",
              "        vertical-align: middle;\n",
              "    }\n",
              "\n",
              "    .dataframe tbody tr th {\n",
              "        vertical-align: top;\n",
              "    }\n",
              "\n",
              "    .dataframe thead th {\n",
              "        text-align: right;\n",
              "    }\n",
              "</style>\n",
              "<table border=\"1\" class=\"dataframe\">\n",
              "  <thead>\n",
              "    <tr style=\"text-align: right;\">\n",
              "      <th></th>\n",
              "      <th>index</th>\n",
              "      <th>Score1</th>\n",
              "      <th>Score2</th>\n",
              "      <th>Score3</th>\n",
              "      <th>Score4</th>\n",
              "      <th>Score5</th>\n",
              "      <th>Score6</th>\n",
              "    </tr>\n",
              "  </thead>\n",
              "  <tbody>\n",
              "    <tr>\n",
              "      <th>0</th>\n",
              "      <td>A</td>\n",
              "      <td>-0.882171</td>\n",
              "      <td>-0.095061</td>\n",
              "      <td>2.625610</td>\n",
              "      <td>-1.426068</td>\n",
              "      <td>0.187746</td>\n",
              "      <td>-0.977232</td>\n",
              "    </tr>\n",
              "    <tr>\n",
              "      <th>1</th>\n",
              "      <td>B</td>\n",
              "      <td>1.730091</td>\n",
              "      <td>1.008379</td>\n",
              "      <td>-0.558240</td>\n",
              "      <td>0.156570</td>\n",
              "      <td>-0.295494</td>\n",
              "      <td>2.738470</td>\n",
              "    </tr>\n",
              "    <tr>\n",
              "      <th>2</th>\n",
              "      <td>C</td>\n",
              "      <td>-1.784861</td>\n",
              "      <td>-2.007825</td>\n",
              "      <td>-1.513561</td>\n",
              "      <td>0.481401</td>\n",
              "      <td>-1.073825</td>\n",
              "      <td>-3.792686</td>\n",
              "    </tr>\n",
              "    <tr>\n",
              "      <th>3</th>\n",
              "      <td>D</td>\n",
              "      <td>-0.381563</td>\n",
              "      <td>0.257768</td>\n",
              "      <td>0.404481</td>\n",
              "      <td>-1.198314</td>\n",
              "      <td>2.342570</td>\n",
              "      <td>-0.123795</td>\n",
              "    </tr>\n",
              "    <tr>\n",
              "      <th>4</th>\n",
              "      <td>E</td>\n",
              "      <td>-1.356179</td>\n",
              "      <td>-0.827508</td>\n",
              "      <td>-0.463523</td>\n",
              "      <td>0.257998</td>\n",
              "      <td>1.177842</td>\n",
              "      <td>-2.183687</td>\n",
              "    </tr>\n",
              "    <tr>\n",
              "      <th>5</th>\n",
              "      <td>F</td>\n",
              "      <td>1.774042</td>\n",
              "      <td>-0.025552</td>\n",
              "      <td>1.582065</td>\n",
              "      <td>-0.543565</td>\n",
              "      <td>-0.123493</td>\n",
              "      <td>1.748490</td>\n",
              "    </tr>\n",
              "    <tr>\n",
              "      <th>6</th>\n",
              "      <td>G</td>\n",
              "      <td>0.651485</td>\n",
              "      <td>0.401506</td>\n",
              "      <td>0.193115</td>\n",
              "      <td>0.810205</td>\n",
              "      <td>-1.272691</td>\n",
              "      <td>1.052992</td>\n",
              "    </tr>\n",
              "    <tr>\n",
              "      <th>7</th>\n",
              "      <td>H</td>\n",
              "      <td>0.501196</td>\n",
              "      <td>-0.395915</td>\n",
              "      <td>1.243877</td>\n",
              "      <td>-0.959738</td>\n",
              "      <td>0.708761</td>\n",
              "      <td>0.105281</td>\n",
              "    </tr>\n",
              "    <tr>\n",
              "      <th>8</th>\n",
              "      <td>I</td>\n",
              "      <td>-0.284304</td>\n",
              "      <td>0.165753</td>\n",
              "      <td>-1.712767</td>\n",
              "      <td>0.212682</td>\n",
              "      <td>-0.118836</td>\n",
              "      <td>-0.118551</td>\n",
              "    </tr>\n",
              "    <tr>\n",
              "      <th>9</th>\n",
              "      <td>J</td>\n",
              "      <td>0.854647</td>\n",
              "      <td>1.605375</td>\n",
              "      <td>0.562507</td>\n",
              "      <td>1.446787</td>\n",
              "      <td>-1.845467</td>\n",
              "      <td>2.460022</td>\n",
              "    </tr>\n",
              "  </tbody>\n",
              "</table>\n",
              "</div>"
            ],
            "text/plain": [
              "  index    Score1    Score2    Score3    Score4    Score5    Score6\n",
              "0     A -0.882171 -0.095061  2.625610 -1.426068  0.187746 -0.977232\n",
              "1     B  1.730091  1.008379 -0.558240  0.156570 -0.295494  2.738470\n",
              "2     C -1.784861 -2.007825 -1.513561  0.481401 -1.073825 -3.792686\n",
              "3     D -0.381563  0.257768  0.404481 -1.198314  2.342570 -0.123795\n",
              "4     E -1.356179 -0.827508 -0.463523  0.257998  1.177842 -2.183687\n",
              "5     F  1.774042 -0.025552  1.582065 -0.543565 -0.123493  1.748490\n",
              "6     G  0.651485  0.401506  0.193115  0.810205 -1.272691  1.052992\n",
              "7     H  0.501196 -0.395915  1.243877 -0.959738  0.708761  0.105281\n",
              "8     I -0.284304  0.165753 -1.712767  0.212682 -0.118836 -0.118551\n",
              "9     J  0.854647  1.605375  0.562507  1.446787 -1.845467  2.460022"
            ]
          },
          "metadata": {
            "tags": []
          },
          "execution_count": 91
        }
      ]
    },
    {
      "cell_type": "code",
      "metadata": {
        "id": "87uRf8NM757H"
      },
      "source": [
        "new_index = 'IND JP CAN GE IT RUS FRN USA UAE UK'.split()"
      ],
      "execution_count": null,
      "outputs": []
    },
    {
      "cell_type": "code",
      "metadata": {
        "id": "PyBB1CE5757H"
      },
      "source": [
        "dataframe['Countries'] = new_index"
      ],
      "execution_count": null,
      "outputs": []
    },
    {
      "cell_type": "code",
      "metadata": {
        "id": "2Nt2WXqM757I",
        "outputId": "a2cda479-a514-4bf1-9caa-6a693e2900d3"
      },
      "source": [
        "dataframe"
      ],
      "execution_count": null,
      "outputs": [
        {
          "output_type": "execute_result",
          "data": {
            "text/html": [
              "<div>\n",
              "<style scoped>\n",
              "    .dataframe tbody tr th:only-of-type {\n",
              "        vertical-align: middle;\n",
              "    }\n",
              "\n",
              "    .dataframe tbody tr th {\n",
              "        vertical-align: top;\n",
              "    }\n",
              "\n",
              "    .dataframe thead th {\n",
              "        text-align: right;\n",
              "    }\n",
              "</style>\n",
              "<table border=\"1\" class=\"dataframe\">\n",
              "  <thead>\n",
              "    <tr style=\"text-align: right;\">\n",
              "      <th></th>\n",
              "      <th>Score1</th>\n",
              "      <th>Score2</th>\n",
              "      <th>Score3</th>\n",
              "      <th>Score4</th>\n",
              "      <th>Score5</th>\n",
              "      <th>Score6</th>\n",
              "      <th>Countries</th>\n",
              "    </tr>\n",
              "  </thead>\n",
              "  <tbody>\n",
              "    <tr>\n",
              "      <th>A</th>\n",
              "      <td>-0.882171</td>\n",
              "      <td>-0.095061</td>\n",
              "      <td>2.625610</td>\n",
              "      <td>-1.426068</td>\n",
              "      <td>0.187746</td>\n",
              "      <td>-0.977232</td>\n",
              "      <td>IND</td>\n",
              "    </tr>\n",
              "    <tr>\n",
              "      <th>B</th>\n",
              "      <td>1.730091</td>\n",
              "      <td>1.008379</td>\n",
              "      <td>-0.558240</td>\n",
              "      <td>0.156570</td>\n",
              "      <td>-0.295494</td>\n",
              "      <td>2.738470</td>\n",
              "      <td>JP</td>\n",
              "    </tr>\n",
              "    <tr>\n",
              "      <th>C</th>\n",
              "      <td>-1.784861</td>\n",
              "      <td>-2.007825</td>\n",
              "      <td>-1.513561</td>\n",
              "      <td>0.481401</td>\n",
              "      <td>-1.073825</td>\n",
              "      <td>-3.792686</td>\n",
              "      <td>CAN</td>\n",
              "    </tr>\n",
              "    <tr>\n",
              "      <th>D</th>\n",
              "      <td>-0.381563</td>\n",
              "      <td>0.257768</td>\n",
              "      <td>0.404481</td>\n",
              "      <td>-1.198314</td>\n",
              "      <td>2.342570</td>\n",
              "      <td>-0.123795</td>\n",
              "      <td>GE</td>\n",
              "    </tr>\n",
              "    <tr>\n",
              "      <th>E</th>\n",
              "      <td>-1.356179</td>\n",
              "      <td>-0.827508</td>\n",
              "      <td>-0.463523</td>\n",
              "      <td>0.257998</td>\n",
              "      <td>1.177842</td>\n",
              "      <td>-2.183687</td>\n",
              "      <td>IT</td>\n",
              "    </tr>\n",
              "    <tr>\n",
              "      <th>F</th>\n",
              "      <td>1.774042</td>\n",
              "      <td>-0.025552</td>\n",
              "      <td>1.582065</td>\n",
              "      <td>-0.543565</td>\n",
              "      <td>-0.123493</td>\n",
              "      <td>1.748490</td>\n",
              "      <td>RUS</td>\n",
              "    </tr>\n",
              "    <tr>\n",
              "      <th>G</th>\n",
              "      <td>0.651485</td>\n",
              "      <td>0.401506</td>\n",
              "      <td>0.193115</td>\n",
              "      <td>0.810205</td>\n",
              "      <td>-1.272691</td>\n",
              "      <td>1.052992</td>\n",
              "      <td>FRN</td>\n",
              "    </tr>\n",
              "    <tr>\n",
              "      <th>H</th>\n",
              "      <td>0.501196</td>\n",
              "      <td>-0.395915</td>\n",
              "      <td>1.243877</td>\n",
              "      <td>-0.959738</td>\n",
              "      <td>0.708761</td>\n",
              "      <td>0.105281</td>\n",
              "      <td>USA</td>\n",
              "    </tr>\n",
              "    <tr>\n",
              "      <th>I</th>\n",
              "      <td>-0.284304</td>\n",
              "      <td>0.165753</td>\n",
              "      <td>-1.712767</td>\n",
              "      <td>0.212682</td>\n",
              "      <td>-0.118836</td>\n",
              "      <td>-0.118551</td>\n",
              "      <td>UAE</td>\n",
              "    </tr>\n",
              "    <tr>\n",
              "      <th>J</th>\n",
              "      <td>0.854647</td>\n",
              "      <td>1.605375</td>\n",
              "      <td>0.562507</td>\n",
              "      <td>1.446787</td>\n",
              "      <td>-1.845467</td>\n",
              "      <td>2.460022</td>\n",
              "      <td>UK</td>\n",
              "    </tr>\n",
              "  </tbody>\n",
              "</table>\n",
              "</div>"
            ],
            "text/plain": [
              "     Score1    Score2    Score3    Score4    Score5    Score6 Countries\n",
              "A -0.882171 -0.095061  2.625610 -1.426068  0.187746 -0.977232       IND\n",
              "B  1.730091  1.008379 -0.558240  0.156570 -0.295494  2.738470        JP\n",
              "C -1.784861 -2.007825 -1.513561  0.481401 -1.073825 -3.792686       CAN\n",
              "D -0.381563  0.257768  0.404481 -1.198314  2.342570 -0.123795        GE\n",
              "E -1.356179 -0.827508 -0.463523  0.257998  1.177842 -2.183687        IT\n",
              "F  1.774042 -0.025552  1.582065 -0.543565 -0.123493  1.748490       RUS\n",
              "G  0.651485  0.401506  0.193115  0.810205 -1.272691  1.052992       FRN\n",
              "H  0.501196 -0.395915  1.243877 -0.959738  0.708761  0.105281       USA\n",
              "I -0.284304  0.165753 -1.712767  0.212682 -0.118836 -0.118551       UAE\n",
              "J  0.854647  1.605375  0.562507  1.446787 -1.845467  2.460022        UK"
            ]
          },
          "metadata": {
            "tags": []
          },
          "execution_count": 94
        }
      ]
    },
    {
      "cell_type": "code",
      "metadata": {
        "id": "Shw15BwU757I"
      },
      "source": [
        "dataframe.set_index('Countries',inplace=True)"
      ],
      "execution_count": null,
      "outputs": []
    },
    {
      "cell_type": "code",
      "metadata": {
        "id": "crDpYjqM757I",
        "outputId": "3c9a7218-00ed-4347-ecef-96c745a97392"
      },
      "source": [
        "dataframe"
      ],
      "execution_count": null,
      "outputs": [
        {
          "output_type": "execute_result",
          "data": {
            "text/html": [
              "<div>\n",
              "<style scoped>\n",
              "    .dataframe tbody tr th:only-of-type {\n",
              "        vertical-align: middle;\n",
              "    }\n",
              "\n",
              "    .dataframe tbody tr th {\n",
              "        vertical-align: top;\n",
              "    }\n",
              "\n",
              "    .dataframe thead th {\n",
              "        text-align: right;\n",
              "    }\n",
              "</style>\n",
              "<table border=\"1\" class=\"dataframe\">\n",
              "  <thead>\n",
              "    <tr style=\"text-align: right;\">\n",
              "      <th></th>\n",
              "      <th>Score1</th>\n",
              "      <th>Score2</th>\n",
              "      <th>Score3</th>\n",
              "      <th>Score4</th>\n",
              "      <th>Score5</th>\n",
              "      <th>Score6</th>\n",
              "    </tr>\n",
              "    <tr>\n",
              "      <th>Countries</th>\n",
              "      <th></th>\n",
              "      <th></th>\n",
              "      <th></th>\n",
              "      <th></th>\n",
              "      <th></th>\n",
              "      <th></th>\n",
              "    </tr>\n",
              "  </thead>\n",
              "  <tbody>\n",
              "    <tr>\n",
              "      <th>IND</th>\n",
              "      <td>-0.882171</td>\n",
              "      <td>-0.095061</td>\n",
              "      <td>2.625610</td>\n",
              "      <td>-1.426068</td>\n",
              "      <td>0.187746</td>\n",
              "      <td>-0.977232</td>\n",
              "    </tr>\n",
              "    <tr>\n",
              "      <th>JP</th>\n",
              "      <td>1.730091</td>\n",
              "      <td>1.008379</td>\n",
              "      <td>-0.558240</td>\n",
              "      <td>0.156570</td>\n",
              "      <td>-0.295494</td>\n",
              "      <td>2.738470</td>\n",
              "    </tr>\n",
              "    <tr>\n",
              "      <th>CAN</th>\n",
              "      <td>-1.784861</td>\n",
              "      <td>-2.007825</td>\n",
              "      <td>-1.513561</td>\n",
              "      <td>0.481401</td>\n",
              "      <td>-1.073825</td>\n",
              "      <td>-3.792686</td>\n",
              "    </tr>\n",
              "    <tr>\n",
              "      <th>GE</th>\n",
              "      <td>-0.381563</td>\n",
              "      <td>0.257768</td>\n",
              "      <td>0.404481</td>\n",
              "      <td>-1.198314</td>\n",
              "      <td>2.342570</td>\n",
              "      <td>-0.123795</td>\n",
              "    </tr>\n",
              "    <tr>\n",
              "      <th>IT</th>\n",
              "      <td>-1.356179</td>\n",
              "      <td>-0.827508</td>\n",
              "      <td>-0.463523</td>\n",
              "      <td>0.257998</td>\n",
              "      <td>1.177842</td>\n",
              "      <td>-2.183687</td>\n",
              "    </tr>\n",
              "    <tr>\n",
              "      <th>RUS</th>\n",
              "      <td>1.774042</td>\n",
              "      <td>-0.025552</td>\n",
              "      <td>1.582065</td>\n",
              "      <td>-0.543565</td>\n",
              "      <td>-0.123493</td>\n",
              "      <td>1.748490</td>\n",
              "    </tr>\n",
              "    <tr>\n",
              "      <th>FRN</th>\n",
              "      <td>0.651485</td>\n",
              "      <td>0.401506</td>\n",
              "      <td>0.193115</td>\n",
              "      <td>0.810205</td>\n",
              "      <td>-1.272691</td>\n",
              "      <td>1.052992</td>\n",
              "    </tr>\n",
              "    <tr>\n",
              "      <th>USA</th>\n",
              "      <td>0.501196</td>\n",
              "      <td>-0.395915</td>\n",
              "      <td>1.243877</td>\n",
              "      <td>-0.959738</td>\n",
              "      <td>0.708761</td>\n",
              "      <td>0.105281</td>\n",
              "    </tr>\n",
              "    <tr>\n",
              "      <th>UAE</th>\n",
              "      <td>-0.284304</td>\n",
              "      <td>0.165753</td>\n",
              "      <td>-1.712767</td>\n",
              "      <td>0.212682</td>\n",
              "      <td>-0.118836</td>\n",
              "      <td>-0.118551</td>\n",
              "    </tr>\n",
              "    <tr>\n",
              "      <th>UK</th>\n",
              "      <td>0.854647</td>\n",
              "      <td>1.605375</td>\n",
              "      <td>0.562507</td>\n",
              "      <td>1.446787</td>\n",
              "      <td>-1.845467</td>\n",
              "      <td>2.460022</td>\n",
              "    </tr>\n",
              "  </tbody>\n",
              "</table>\n",
              "</div>"
            ],
            "text/plain": [
              "             Score1    Score2    Score3    Score4    Score5    Score6\n",
              "Countries                                                            \n",
              "IND       -0.882171 -0.095061  2.625610 -1.426068  0.187746 -0.977232\n",
              "JP         1.730091  1.008379 -0.558240  0.156570 -0.295494  2.738470\n",
              "CAN       -1.784861 -2.007825 -1.513561  0.481401 -1.073825 -3.792686\n",
              "GE        -0.381563  0.257768  0.404481 -1.198314  2.342570 -0.123795\n",
              "IT        -1.356179 -0.827508 -0.463523  0.257998  1.177842 -2.183687\n",
              "RUS        1.774042 -0.025552  1.582065 -0.543565 -0.123493  1.748490\n",
              "FRN        0.651485  0.401506  0.193115  0.810205 -1.272691  1.052992\n",
              "USA        0.501196 -0.395915  1.243877 -0.959738  0.708761  0.105281\n",
              "UAE       -0.284304  0.165753 -1.712767  0.212682 -0.118836 -0.118551\n",
              "UK         0.854647  1.605375  0.562507  1.446787 -1.845467  2.460022"
            ]
          },
          "metadata": {
            "tags": []
          },
          "execution_count": 99
        }
      ]
    },
    {
      "cell_type": "code",
      "metadata": {
        "id": "hmzAjokp757J",
        "outputId": "ee02f3cd-d41b-4833-880c-a51858c2499a"
      },
      "source": [
        "dataframe.loc['IND']"
      ],
      "execution_count": null,
      "outputs": [
        {
          "output_type": "execute_result",
          "data": {
            "text/plain": [
              "Score1   -0.882171\n",
              "Score2   -0.095061\n",
              "Score3    2.625610\n",
              "Score4   -1.426068\n",
              "Score5    0.187746\n",
              "Score6   -0.977232\n",
              "Name: IND, dtype: float64"
            ]
          },
          "metadata": {
            "tags": []
          },
          "execution_count": 98
        }
      ]
    },
    {
      "cell_type": "code",
      "metadata": {
        "id": "HcLiGOo9757J"
      },
      "source": [
        ""
      ],
      "execution_count": null,
      "outputs": []
    }
  ]
}